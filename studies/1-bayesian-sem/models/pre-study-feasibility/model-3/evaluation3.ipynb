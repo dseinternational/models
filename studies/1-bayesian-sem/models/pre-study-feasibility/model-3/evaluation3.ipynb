{
 "cells": [
  {
   "cell_type": "markdown",
   "id": "f8ec35a7",
   "metadata": {},
   "source": [
    "# Model 3 - Evaluation 3\n",
    "\n",
    "[Model 3](readme.md) ....\n",
    "\n",
    "The model is defined in [model.py](model.py).\n",
    "\n",
    "Here, we evaluate the model using observed variables from data set 2 times 1 through 4.\n"
   ]
  },
  {
   "cell_type": "markdown",
   "id": "6d08954c",
   "metadata": {},
   "source": [
    "## Preliminaries\n"
   ]
  },
  {
   "cell_type": "code",
   "execution_count": 11,
   "id": "cc61b25d",
   "metadata": {},
   "outputs": [
    {
     "name": "stdout",
     "output_type": "stream",
     "text": [
      "Environment:\n",
      "  platform: macOS-26.0-arm64-arm-64bit-Mach-O\n",
      "  platform_version: Darwin Kernel Version 25.0.0: Mon Aug 25 21:16:39 PDT 2025; root:xnu-12377.1.9~3/RELEASE_ARM64_T6031\n",
      "  architecture: ('64bit', 'Mach-O')\n",
      "  processor: arm\n",
      "  cpu_count: 16\n",
      "  python: 3.13.7 (v3.13.7:bcee1c32211, Aug 14 2025, 19:10:51) [Clang 16.0.0 (clang-1600.0.26.6)]\n",
      "  pymc: 5.25.1\n",
      "  pytensor: 2.31.7\n",
      "  numpy: 2.3.3\n",
      "  arviz: 0.22.0\n"
     ]
    }
   ],
   "source": [
    "import platform\n",
    "import os\n",
    "import sys\n",
    "import arviz as az\n",
    "import matplotlib.pyplot as plt\n",
    "import numpy as np\n",
    "import pandas as pd\n",
    "import pymc as pm\n",
    "import pytensor\n",
    "import pytensor.tensor as pt\n",
    "import model as m\n",
    "from model import ModelConfig, ModelSpecification\n",
    "import xarray as xr\n",
    "\n",
    "pd.options.mode.copy_on_write = True\n",
    "\n",
    "pytensor.config.mode = \"NUMBA\"\n",
    "pytensor.config.print_active_device = True\n",
    "\n",
    "az.style.use(\"arviz-whitegrid\")\n",
    "\n",
    "environment = {\n",
    "    \"platform\": platform.platform(),\n",
    "    \"platform_version\": platform.version(),\n",
    "    \"architecture\": platform.architecture(),\n",
    "    \"processor\": platform.processor(),\n",
    "    \"cpu_count\": os.cpu_count(),\n",
    "    \"python\": sys.version,\n",
    "    \"pymc\": pm.__version__,\n",
    "    \"pytensor\": pytensor.__version__,\n",
    "    \"numpy\": np.__version__,\n",
    "    \"arviz\": az.__version__,\n",
    "}\n",
    "\n",
    "print(\"Environment:\")\n",
    "for key, value in environment.items():\n",
    "    print(f\"  {key}: {value}\")"
   ]
  },
  {
   "cell_type": "markdown",
   "id": "38651d91",
   "metadata": {},
   "source": [
    "### Load data\n"
   ]
  },
  {
   "cell_type": "code",
   "execution_count": 12,
   "id": "a63dc8dc",
   "metadata": {},
   "outputs": [],
   "source": [
    "df = pd.read_csv(\n",
    "    \"../../../../../data/reading-language-memory/rlm-data-5.csv\"\n",
    ").convert_dtypes()\n",
    "df = df[df[\"readgrp\"] == 3]"
   ]
  },
  {
   "cell_type": "markdown",
   "id": "ac763c20",
   "metadata": {},
   "source": [
    "## Evaluate model\n"
   ]
  },
  {
   "cell_type": "markdown",
   "id": "33785b58",
   "metadata": {},
   "source": [
    "### Build model\n"
   ]
  },
  {
   "cell_type": "code",
   "execution_count": 13,
   "id": "074dbffb",
   "metadata": {},
   "outputs": [],
   "source": [
    "spec = ModelSpecification(\n",
    "    age=df[\"age1\"].to_numpy(na_value=np.nan),\n",
    "    gender=df[\"sex\"].to_numpy(na_value=np.nan),    \n",
    "    rv=df[\n",
    "        [\"bpvs1\", \"bpvs2\", \"bpvs3\", \"bpvs4\"]\n",
    "    ].to_numpy(na_value=np.nan),\n",
    "    sp=df[\n",
    "        [\"basspel1\", \"basspel2\", \"basspel3\", \"basspel4\"]\n",
    "    ].to_numpy(na_value=np.nan),\n",
    "    wr=df[\n",
    "        [\"basread1\", \"basread2\", \"basread3\", \"basread4\"]\n",
    "    ].to_numpy(na_value=np.nan),\n",
    ")\n",
    "\n",
    "model = m.build_model(spec)"
   ]
  },
  {
   "cell_type": "markdown",
   "id": "e9ed9d36",
   "metadata": {},
   "source": [
    "### Model graph\n"
   ]
  },
  {
   "cell_type": "code",
   "execution_count": 14,
   "id": "a5221595",
   "metadata": {},
   "outputs": [],
   "source": [
    "# pm.model_to_graphviz(model)"
   ]
  },
  {
   "cell_type": "markdown",
   "id": "7324659e",
   "metadata": {},
   "source": [
    "### Run simulation\n"
   ]
  },
  {
   "cell_type": "code",
   "execution_count": 15,
   "id": "aed4b6ea",
   "metadata": {},
   "outputs": [
    {
     "data": {
      "application/vnd.jupyter.widget-view+json": {
       "model_id": "c3bd45e164ca40469cc9f9a9b5132650",
       "version_major": 2,
       "version_minor": 0
      },
      "text/plain": [
       "  0%|          | 0/12000 [00:00<?, ?it/s]"
      ]
     },
     "metadata": {},
     "output_type": "display_data"
    },
    {
     "data": {
      "application/vnd.jupyter.widget-view+json": {
       "model_id": "ddfff294bab841f4af45208caca87ae8",
       "version_major": 2,
       "version_minor": 0
      },
      "text/plain": [
       "  0%|          | 0/12000 [00:00<?, ?it/s]"
      ]
     },
     "metadata": {},
     "output_type": "display_data"
    },
    {
     "data": {
      "application/vnd.jupyter.widget-view+json": {
       "model_id": "97e53381ba2c4647a5150cb4f14eed4b",
       "version_major": 2,
       "version_minor": 0
      },
      "text/plain": [
       "  0%|          | 0/12000 [00:00<?, ?it/s]"
      ]
     },
     "metadata": {},
     "output_type": "display_data"
    },
    {
     "data": {
      "application/vnd.jupyter.widget-view+json": {
       "model_id": "99b079f1b7c74988939fede05bb7fb60",
       "version_major": 2,
       "version_minor": 0
      },
      "text/plain": [
       "  0%|          | 0/12000 [00:00<?, ?it/s]"
      ]
     },
     "metadata": {},
     "output_type": "display_data"
    },
    {
     "name": "stderr",
     "output_type": "stream",
     "text": [
      "/Users/frankbuckley/dev/dseinternational/development-models/.venv/lib/python3.13/site-packages/jax/_src/interpreters/mlir.py:1316: UserWarning: Some donated buffers were not usable: float64[4,8000,6], float64[4,8000,31,3], float64[4,8000,31,3,3], float64[4,8000,6], float64[4,8000,31,3], float64[4,8000], float64[4,8000], float64[4,8000,31,4], float64[4,8000].\n",
      "See an explanation at https://docs.jax.dev/en/latest/faq.html#buffer-donation.\n",
      "  warnings.warn(\"Some donated buffers were not usable:\"\n"
     ]
    }
   ],
   "source": [
    "CHAINS = 4\n",
    "CORES = CHAINS\n",
    "RANDOM_SEED = 202509\n",
    "rng = np.random.default_rng(RANDOM_SEED)\n",
    "\n",
    "posterior_keep = [\n",
    "    \"B\",\n",
    "    \"B_autoregressive\",\n",
    "    \"B_crosslag\",\n",
    "    \"B_half_life\",\n",
    "    \"mu\",\n",
    "    \"beta_age\",\n",
    "    \"beta_person\",\n",
    "    \"rho\",\n",
    "    \"alpha_sd\",\n",
    "    \"alpha_corr\",\n",
    "    \"eta_sd\",\n",
    "    \"delta\",\n",
    "    \"p_bar\",\n",
    "    \"items_per_logit\",\n",
    "]\n",
    "\n",
    "with model:\n",
    "    idata = pm.sample(\n",
    "        draws=8000,\n",
    "        tune=4000,\n",
    "        chains=CHAINS,\n",
    "        cores=CORES,\n",
    "        target_accept=0.95,\n",
    "        var_names=posterior_keep,\n",
    "        idata_kwargs={\"log_likelihood\": True},\n",
    "        return_inferencedata=True,\n",
    "        init=\"jitter+adapt_diag\",\n",
    "        nuts_sampler=\"numpyro\",\n",
    "        chain_method=\"vectorized\",\n",
    "        # compile_kwargs=dict(mode=\"NUMBA\"),\n",
    "        random_seed=RANDOM_SEED,\n",
    "    )"
   ]
  },
  {
   "cell_type": "markdown",
   "id": "8e0dbb95",
   "metadata": {},
   "source": [
    "## Diagnostics\n"
   ]
  },
  {
   "cell_type": "code",
   "execution_count": 16,
   "id": "391e86b2",
   "metadata": {},
   "outputs": [
    {
     "data": {
      "text/plain": [
       "array([0.84959195, 0.85212562, 0.84920705, 0.83032977])"
      ]
     },
     "execution_count": 16,
     "metadata": {},
     "output_type": "execute_result"
    }
   ],
   "source": [
    "az.bfmi(idata)"
   ]
  },
  {
   "cell_type": "code",
   "execution_count": 17,
   "id": "96ec64e6",
   "metadata": {},
   "outputs": [
    {
     "data": {
      "text/plain": [
       "<Axes: >"
      ]
     },
     "execution_count": 17,
     "metadata": {},
     "output_type": "execute_result"
    },
    {
     "data": {
      "image/png": "[encoded data removed]",
      "text/plain": [
       "<Figure size 720x480 with 1 Axes>"
      ]
     },
     "metadata": {},
     "output_type": "display_data"
    }
   ],
   "source": [
    "az.plot_energy(idata)"
   ]
  },
  {
   "cell_type": "code",
   "execution_count": 18,
   "id": "68233811",
   "metadata": {},
   "outputs": [
    {
     "name": "stderr",
     "output_type": "stream",
     "text": [
      "/var/folders/xy/9cdy15js451fxxnb4jpgv4zh0000gn/T/ipykernel_16441/1443674258.py:8: UserWarning: The effect of Potentials on other parameters is ignored during prior predictive sampling. This is likely to lead to invalid or biased predictive samples.\n",
      "  idata_pp = pm.sample_prior_predictive(\n",
      "Sampling: [alpha_scale, alpha_z, beta_age, beta_person, day_raw, delta, delta_sd, eta_sd, init_scale, kappa_uncon, mu0, mu_step_sd, mu_steps, nu_mu_minus2, raw_B, state_shock, x1_z, y]\n"
     ]
    }
   ],
   "source": [
    "from pytensor import config\n",
    "\n",
    "if config.mode.upper() == \"NUMBA\":\n",
    "    config.mode = \"FAST_COMPILE\"\n",
    "\n",
    "with model:\n",
    "    # Prior predictive (force non-Numba mode)\n",
    "    idata_pp = pm.sample_prior_predictive(\n",
    "        samples=1000,\n",
    "        var_names=[\n",
    "            \"mu\",\n",
    "            \"B\",\n",
    "            \"rho\",\n",
    "            \"kappa\",\n",
    "            \"alpha_sd\",\n",
    "            \"alpha_corr\",\n",
    "            \"eta_sd\",\n",
    "            \"delta\",\n",
    "            \"y\",\n",
    "        ],\n",
    "        compile_kwargs={\n",
    "            \"mode\": \"FAST_COMPILE\"\n",
    "        }\n",
    "    )\n",
    "    idata.extend(idata_pp)"
   ]
  },
  {
   "cell_type": "code",
   "execution_count": 19,
   "id": "549a8db6",
   "metadata": {},
   "outputs": [
    {
     "name": "stdout",
     "output_type": "stream",
     "text": [
      "<xarray.DataArray 'mu' (quantile: 3, construct: 3, time: 4)> Size: 288B\n",
      "array([[[0.17464647, 0.15292617, 0.1329158 , 0.12531805],\n",
      "        [0.03572089, 0.03135359, 0.02474264, 0.02101978],\n",
      "        [0.07597136, 0.05953196, 0.05402873, 0.04928431]],\n",
      "\n",
      "       [[0.31973033, 0.32286891, 0.32053154, 0.32131735],\n",
      "        [0.07828584, 0.07874503, 0.08002096, 0.07896922],\n",
      "        [0.16047712, 0.159144  , 0.158433  , 0.15974389]],\n",
      "\n",
      "       [[0.51026675, 0.55678695, 0.58681965, 0.62246567],\n",
      "        [0.15379834, 0.179092  , 0.20856992, 0.22135745],\n",
      "        [0.29628026, 0.32316266, 0.35638584, 0.38167929]]])\n",
      "Coordinates:\n",
      "  * construct  (construct) <U11 132B 'Vocab' 'Spelling' 'WordReading'\n",
      "  * time       (time) int64 32B 1 2 3 4\n",
      "  * quantile   (quantile) float64 24B 0.05 0.5 0.95\n"
     ]
    },
    {
     "data": {
      "application/vnd.microsoft.datawrangler.viewer.v0+json": {
       "columns": [
        {
         "name": "('construct', 'time')",
         "rawType": "object",
         "type": "unknown"
        },
        {
         "name": "q05",
         "rawType": "float64",
         "type": "float"
        },
        {
         "name": "q50",
         "rawType": "float64",
         "type": "float"
        },
        {
         "name": "q95",
         "rawType": "float64",
         "type": "float"
        }
       ],
       "ref": "31be121e-5d9b-4f12-bc91-c1a1dee1a692",
       "rows": [
        [
         "('Spelling', np.int64(1))",
         "0.03572088881702457",
         "0.07828584453601212",
         "0.15379833787789862"
        ],
        [
         "('Spelling', np.int64(2))",
         "0.031353585691227065",
         "0.0787450321604396",
         "0.1790919951432085"
        ],
        [
         "('Spelling', np.int64(3))",
         "0.024742640369641473",
         "0.08002096054955857",
         "0.20856992331789762"
        ],
        [
         "('Spelling', np.int64(4))",
         "0.02101977774537802",
         "0.0789692229172349",
         "0.22135745150598113"
        ],
        [
         "('Vocab', np.int64(1))",
         "0.17464646528087788",
         "0.31973032747477614",
         "0.5102667466629436"
        ],
        [
         "('Vocab', np.int64(2))",
         "0.1529261715764863",
         "0.3228689073405361",
         "0.5567869487887598"
        ],
        [
         "('Vocab', np.int64(3))",
         "0.13291579783860394",
         "0.3205315377266808",
         "0.5868196502600886"
        ],
        [
         "('Vocab', np.int64(4))",
         "0.1253180487988567",
         "0.3213173530646643",
         "0.6224656685610882"
        ],
        [
         "('WordReading', np.int64(1))",
         "0.07597136151731566",
         "0.16047711881223609",
         "0.29628025927829593"
        ],
        [
         "('WordReading', np.int64(2))",
         "0.0595319603693647",
         "0.15914399778752747",
         "0.323162659554472"
        ],
        [
         "('WordReading', np.int64(3))",
         "0.054028733838136514",
         "0.15843299997431015",
         "0.35638583860402306"
        ],
        [
         "('WordReading', np.int64(4))",
         "0.04928431423972615",
         "0.15974389108763482",
         "0.3816792851292853"
        ]
       ],
       "shape": {
        "columns": 3,
        "rows": 12
       }
      },
      "text/html": [
       "<div>\n",
       "<style scoped>\n",
       "    .dataframe tbody tr th:only-of-type {\n",
       "        vertical-align: middle;\n",
       "    }\n",
       "\n",
       "    .dataframe tbody tr th {\n",
       "        vertical-align: top;\n",
       "    }\n",
       "\n",
       "    .dataframe thead th {\n",
       "        text-align: right;\n",
       "    }\n",
       "</style>\n",
       "<table border=\"1\" class=\"dataframe\">\n",
       "  <thead>\n",
       "    <tr style=\"text-align: right;\">\n",
       "      <th></th>\n",
       "      <th>quantile</th>\n",
       "      <th>q05</th>\n",
       "      <th>q50</th>\n",
       "      <th>q95</th>\n",
       "    </tr>\n",
       "    <tr>\n",
       "      <th>construct</th>\n",
       "      <th>time</th>\n",
       "      <th></th>\n",
       "      <th></th>\n",
       "      <th></th>\n",
       "    </tr>\n",
       "  </thead>\n",
       "  <tbody>\n",
       "    <tr>\n",
       "      <th rowspan=\"4\" valign=\"top\">Spelling</th>\n",
       "      <th>1</th>\n",
       "      <td>0.035721</td>\n",
       "      <td>0.078286</td>\n",
       "      <td>0.153798</td>\n",
       "    </tr>\n",
       "    <tr>\n",
       "      <th>2</th>\n",
       "      <td>0.031354</td>\n",
       "      <td>0.078745</td>\n",
       "      <td>0.179092</td>\n",
       "    </tr>\n",
       "    <tr>\n",
       "      <th>3</th>\n",
       "      <td>0.024743</td>\n",
       "      <td>0.080021</td>\n",
       "      <td>0.208570</td>\n",
       "    </tr>\n",
       "    <tr>\n",
       "      <th>4</th>\n",
       "      <td>0.021020</td>\n",
       "      <td>0.078969</td>\n",
       "      <td>0.221357</td>\n",
       "    </tr>\n",
       "    <tr>\n",
       "      <th rowspan=\"4\" valign=\"top\">Vocab</th>\n",
       "      <th>1</th>\n",
       "      <td>0.174646</td>\n",
       "      <td>0.319730</td>\n",
       "      <td>0.510267</td>\n",
       "    </tr>\n",
       "    <tr>\n",
       "      <th>2</th>\n",
       "      <td>0.152926</td>\n",
       "      <td>0.322869</td>\n",
       "      <td>0.556787</td>\n",
       "    </tr>\n",
       "    <tr>\n",
       "      <th>3</th>\n",
       "      <td>0.132916</td>\n",
       "      <td>0.320532</td>\n",
       "      <td>0.586820</td>\n",
       "    </tr>\n",
       "    <tr>\n",
       "      <th>4</th>\n",
       "      <td>0.125318</td>\n",
       "      <td>0.321317</td>\n",
       "      <td>0.622466</td>\n",
       "    </tr>\n",
       "    <tr>\n",
       "      <th rowspan=\"4\" valign=\"top\">WordReading</th>\n",
       "      <th>1</th>\n",
       "      <td>0.075971</td>\n",
       "      <td>0.160477</td>\n",
       "      <td>0.296280</td>\n",
       "    </tr>\n",
       "    <tr>\n",
       "      <th>2</th>\n",
       "      <td>0.059532</td>\n",
       "      <td>0.159144</td>\n",
       "      <td>0.323163</td>\n",
       "    </tr>\n",
       "    <tr>\n",
       "      <th>3</th>\n",
       "      <td>0.054029</td>\n",
       "      <td>0.158433</td>\n",
       "      <td>0.356386</td>\n",
       "    </tr>\n",
       "    <tr>\n",
       "      <th>4</th>\n",
       "      <td>0.049284</td>\n",
       "      <td>0.159744</td>\n",
       "      <td>0.381679</td>\n",
       "    </tr>\n",
       "  </tbody>\n",
       "</table>\n",
       "</div>"
      ],
      "text/plain": [
       "quantile               q05       q50       q95\n",
       "construct   time                              \n",
       "Spelling    1     0.035721  0.078286  0.153798\n",
       "            2     0.031354  0.078745  0.179092\n",
       "            3     0.024743  0.080021  0.208570\n",
       "            4     0.021020  0.078969  0.221357\n",
       "Vocab       1     0.174646  0.319730  0.510267\n",
       "            2     0.152926  0.322869  0.556787\n",
       "            3     0.132916  0.320532  0.586820\n",
       "            4     0.125318  0.321317  0.622466\n",
       "WordReading 1     0.075971  0.160477  0.296280\n",
       "            2     0.059532  0.159144  0.323163\n",
       "            3     0.054029  0.158433  0.356386\n",
       "            4     0.049284  0.159744  0.381679"
      ]
     },
     "execution_count": 19,
     "metadata": {},
     "output_type": "execute_result"
    }
   ],
   "source": [
    "\n",
    "# 1) Get mu from the *prior* group (not prior_predictive)\n",
    "mu = idata_pp.prior[\"mu\"]                   # dims: (\"chain\",\"draw\",\"construct\",\"time\")\n",
    "\n",
    "# 2) Collapse chains -> one sample axis\n",
    "mu_s = mu.stack(sample=(\"chain\",\"draw\"))    # dims: (\"sample\",\"construct\",\"time\")\n",
    "\n",
    "# 3) Convert to probabilities\n",
    "p = 1 / (1 + np.exp(-mu_s))                 # same dims\n",
    "\n",
    "# 4) Quantiles over samples -> dims (\"quantile\",\"construct\",\"time\")\n",
    "q = p.quantile(q=[0.05, 0.50, 0.95], dim=\"sample\")\n",
    "\n",
    "# 5a) Stay in xarray (recommended)\n",
    "print(q)\n",
    "\n",
    "# 5b) Or make a tidy pandas table with MultiIndex rows and quantiles as columns\n",
    "df_p = (\n",
    "    q.to_dataframe(name=\"p\")                # index: quantile, construct, time\n",
    "      .reset_index()\n",
    "      .pivot_table(index=[\"construct\",\"time\"], columns=\"quantile\", values=\"p\")\n",
    "      .rename(columns={0.05:\"q05\", 0.50:\"q50\", 0.95:\"q95\"})\n",
    "      .sort_index()\n",
    ")\n",
    "df_p\n"
   ]
  },
  {
   "cell_type": "markdown",
   "id": "720c2a0e",
   "metadata": {},
   "source": [
    "## Summaries\n"
   ]
  },
  {
   "cell_type": "code",
   "execution_count": 20,
   "id": "de5e6d7d",
   "metadata": {},
   "outputs": [
    {
     "name": "stderr",
     "output_type": "stream",
     "text": [
      "/Users/frankbuckley/dev/dseinternational/development-models/.venv/lib/python3.13/site-packages/arviz/stats/diagnostics.py:596: RuntimeWarning: invalid value encountered in scalar divide\n",
      "  (between_chain_variance / within_chain_variance + num_samples - 1) / (num_samples)\n",
      "/Users/frankbuckley/dev/dseinternational/development-models/.venv/lib/python3.13/site-packages/arviz/stats/diagnostics.py:991: RuntimeWarning: invalid value encountered in scalar divide\n",
      "  varsd = varvar / evar / 4\n",
      "/Users/frankbuckley/dev/dseinternational/development-models/.venv/lib/python3.13/site-packages/arviz/stats/diagnostics.py:596: RuntimeWarning: invalid value encountered in scalar divide\n",
      "  (between_chain_variance / within_chain_variance + num_samples - 1) / (num_samples)\n",
      "/Users/frankbuckley/dev/dseinternational/development-models/.venv/lib/python3.13/site-packages/arviz/stats/diagnostics.py:991: RuntimeWarning: invalid value encountered in scalar divide\n",
      "  varsd = varvar / evar / 4\n",
      "/Users/frankbuckley/dev/dseinternational/development-models/.venv/lib/python3.13/site-packages/arviz/stats/diagnostics.py:596: RuntimeWarning: invalid value encountered in scalar divide\n",
      "  (between_chain_variance / within_chain_variance + num_samples - 1) / (num_samples)\n",
      "/Users/frankbuckley/dev/dseinternational/development-models/.venv/lib/python3.13/site-packages/arviz/stats/diagnostics.py:991: RuntimeWarning: invalid value encountered in scalar divide\n",
      "  varsd = varvar / evar / 4\n",
      "/Users/frankbuckley/dev/dseinternational/development-models/.venv/lib/python3.13/site-packages/arviz/stats/diagnostics.py:596: RuntimeWarning: invalid value encountered in scalar divide\n",
      "  (between_chain_variance / within_chain_variance + num_samples - 1) / (num_samples)\n",
      "/Users/frankbuckley/dev/dseinternational/development-models/.venv/lib/python3.13/site-packages/arviz/stats/diagnostics.py:991: RuntimeWarning: invalid value encountered in scalar divide\n",
      "  varsd = varvar / evar / 4\n"
     ]
    },
    {
     "data": {
      "application/vnd.microsoft.datawrangler.viewer.v0+json": {
       "columns": [
        {
         "name": "index",
         "rawType": "object",
         "type": "string"
        },
        {
         "name": "mean",
         "rawType": "float64",
         "type": "float"
        },
        {
         "name": "sd",
         "rawType": "float64",
         "type": "float"
        },
        {
         "name": "hdi_2.5%",
         "rawType": "float64",
         "type": "float"
        },
        {
         "name": "hdi_97.5%",
         "rawType": "float64",
         "type": "float"
        },
        {
         "name": "mcse_mean",
         "rawType": "float64",
         "type": "float"
        },
        {
         "name": "mcse_sd",
         "rawType": "float64",
         "type": "float"
        },
        {
         "name": "ess_bulk",
         "rawType": "float64",
         "type": "float"
        },
        {
         "name": "ess_tail",
         "rawType": "float64",
         "type": "float"
        },
        {
         "name": "r_hat",
         "rawType": "float64",
         "type": "float"
        }
       ],
       "ref": "1938658b-10f1-4e6c-9db3-266fd94d0d37",
       "rows": [
        [
         "B[Vocab, Vocab]",
         "0.112",
         "0.186",
         "-0.244",
         "0.473",
         "0.001",
         "0.001",
         "35696.0",
         "20790.0",
         "1.0"
        ],
        [
         "B[Vocab, Spelling]",
         "-0.018",
         "0.132",
         "-0.276",
         "0.241",
         "0.001",
         "0.001",
         "28446.0",
         "21106.0",
         "1.0"
        ],
        [
         "B[Vocab, WordReading]",
         "-0.026",
         "0.118",
         "-0.264",
         "0.202",
         "0.001",
         "0.001",
         "22282.0",
         "19086.0",
         "1.0"
        ],
        [
         "B[Spelling, Vocab]",
         "0.0",
         "0.144",
         "-0.279",
         "0.282",
         "0.001",
         "0.001",
         "41063.0",
         "23101.0",
         "1.0"
        ],
        [
         "B[Spelling, Spelling]",
         "0.152",
         "0.166",
         "-0.185",
         "0.456",
         "0.001",
         "0.001",
         "19923.0",
         "13168.0",
         "1.0"
        ],
        [
         "B[Spelling, WordReading]",
         "0.027",
         "0.133",
         "-0.238",
         "0.28",
         "0.001",
         "0.001",
         "26023.0",
         "23453.0",
         "1.0"
        ],
        [
         "B[WordReading, Vocab]",
         "0.016",
         "0.145",
         "-0.261",
         "0.3",
         "0.001",
         "0.001",
         "35012.0",
         "22988.0",
         "1.0"
        ],
        [
         "B[WordReading, Spelling]",
         "0.044",
         "0.14",
         "-0.236",
         "0.308",
         "0.001",
         "0.001",
         "18005.0",
         "23379.0",
         "1.0"
        ],
        [
         "B[WordReading, WordReading]",
         "0.26",
         "0.134",
         "-0.007",
         "0.515",
         "0.002",
         "0.002",
         "4905.0",
         "4348.0",
         "1.0"
        ],
        [
         "B_autoregressive[Vocab]",
         "0.112",
         "0.186",
         "-0.244",
         "0.473",
         "0.001",
         "0.001",
         "35696.0",
         "20790.0",
         "1.0"
        ],
        [
         "B_autoregressive[Spelling]",
         "0.152",
         "0.166",
         "-0.185",
         "0.456",
         "0.001",
         "0.001",
         "19923.0",
         "13168.0",
         "1.0"
        ],
        [
         "B_autoregressive[WordReading]",
         "0.26",
         "0.134",
         "-0.007",
         "0.515",
         "0.002",
         "0.002",
         "4905.0",
         "4348.0",
         "1.0"
        ],
        [
         "B_crosslag[Vocab, Vocab]",
         "0.0",
         "0.0",
         "-0.0",
         "-0.0",
         "0.0",
         null,
         "32000.0",
         "32000.0",
         null
        ],
        [
         "B_crosslag[Vocab, Spelling]",
         "-0.018",
         "0.132",
         "-0.276",
         "0.241",
         "0.001",
         "0.001",
         "28446.0",
         "21106.0",
         "1.0"
        ],
        [
         "B_crosslag[Vocab, WordReading]",
         "-0.026",
         "0.118",
         "-0.264",
         "0.202",
         "0.001",
         "0.001",
         "22282.0",
         "19086.0",
         "1.0"
        ],
        [
         "B_crosslag[Spelling, Vocab]",
         "0.0",
         "0.144",
         "-0.279",
         "0.282",
         "0.001",
         "0.001",
         "41063.0",
         "23101.0",
         "1.0"
        ],
        [
         "B_crosslag[Spelling, Spelling]",
         "0.0",
         "0.0",
         "0.0",
         "0.0",
         "0.0",
         null,
         "32000.0",
         "32000.0",
         null
        ],
        [
         "B_crosslag[Spelling, WordReading]",
         "0.027",
         "0.133",
         "-0.238",
         "0.28",
         "0.001",
         "0.001",
         "26023.0",
         "23453.0",
         "1.0"
        ],
        [
         "B_crosslag[WordReading, Vocab]",
         "0.016",
         "0.145",
         "-0.261",
         "0.3",
         "0.001",
         "0.001",
         "35012.0",
         "22988.0",
         "1.0"
        ],
        [
         "B_crosslag[WordReading, Spelling]",
         "0.044",
         "0.14",
         "-0.236",
         "0.308",
         "0.001",
         "0.001",
         "18005.0",
         "23379.0",
         "1.0"
        ],
        [
         "B_crosslag[WordReading, WordReading]",
         "0.0",
         "0.0",
         "0.0",
         "0.0",
         "0.0",
         null,
         "32000.0",
         "32000.0",
         null
        ],
        [
         "B_half_life[Vocab]",
         "0.411",
         "0.198",
         "0.102",
         "0.799",
         "0.001",
         "0.001",
         "21295.0",
         "19600.0",
         "1.0"
        ],
        [
         "B_half_life[Spelling]",
         "0.425",
         "0.192",
         "0.113",
         "0.801",
         "0.001",
         "0.001",
         "25503.0",
         "24358.0",
         "1.0"
        ],
        [
         "B_half_life[WordReading]",
         "0.545",
         "0.192",
         "0.164",
         "0.905",
         "0.002",
         "0.001",
         "6557.0",
         "10202.0",
         "1.0"
        ],
        [
         "beta_age[Vocab]",
         "0.321",
         "0.075",
         "0.174",
         "0.468",
         "0.001",
         "0.0",
         "16067.0",
         "21175.0",
         "1.0"
        ],
        [
         "beta_age[Spelling]",
         "0.424",
         "0.129",
         "0.18",
         "0.687",
         "0.002",
         "0.001",
         "4866.0",
         "9225.0",
         "1.0"
        ],
        [
         "beta_age[WordReading]",
         "0.462",
         "0.153",
         "0.173",
         "0.775",
         "0.003",
         "0.001",
         "3346.0",
         "7456.0",
         "1.0"
        ],
        [
         "beta_person[gender, Vocab]",
         "-0.142",
         "0.134",
         "-0.403",
         "0.126",
         "0.001",
         "0.001",
         "17357.0",
         "20802.0",
         "1.0"
        ],
        [
         "beta_person[gender, Spelling]",
         "0.165",
         "0.21",
         "-0.248",
         "0.577",
         "0.002",
         "0.001",
         "13932.0",
         "21286.0",
         "1.0"
        ],
        [
         "beta_person[gender, WordReading]",
         "0.142",
         "0.239",
         "-0.327",
         "0.606",
         "0.002",
         "0.001",
         "13250.0",
         "18859.0",
         "1.0"
        ],
        [
         "alpha_sd[Vocab]",
         "0.234",
         "0.066",
         "0.11",
         "0.369",
         "0.001",
         "0.0",
         "12625.0",
         "12181.0",
         "1.0"
        ],
        [
         "alpha_sd[Spelling]",
         "0.494",
         "0.083",
         "0.334",
         "0.657",
         "0.001",
         "0.0",
         "19944.0",
         "22345.0",
         "1.0"
        ],
        [
         "alpha_sd[WordReading]",
         "0.659",
         "0.082",
         "0.5",
         "0.821",
         "0.001",
         "0.0",
         "20267.0",
         "22993.0",
         "1.0"
        ],
        [
         "alpha_corr[Vocab, Vocab]",
         "1.0",
         "0.0",
         "1.0",
         "1.0",
         "0.0",
         null,
         "32000.0",
         "32000.0",
         null
        ],
        [
         "alpha_corr[Vocab, Spelling]",
         "0.394",
         "0.224",
         "-0.033",
         "0.816",
         "0.003",
         "0.001",
         "6073.0",
         "11831.0",
         "1.0"
        ],
        [
         "alpha_corr[Vocab, WordReading]",
         "0.555",
         "0.182",
         "0.192",
         "0.879",
         "0.002",
         "0.001",
         "6133.0",
         "12236.0",
         "1.0"
        ],
        [
         "alpha_corr[Spelling, Vocab]",
         "0.394",
         "0.224",
         "-0.033",
         "0.816",
         "0.003",
         "0.001",
         "6073.0",
         "11831.0",
         "1.0"
        ],
        [
         "alpha_corr[Spelling, Spelling]",
         "1.0",
         "0.0",
         "1.0",
         "1.0",
         "0.0",
         "0.0",
         "31851.0",
         "31789.0",
         "1.0"
        ],
        [
         "alpha_corr[Spelling, WordReading]",
         "0.826",
         "0.096",
         "0.637",
         "0.976",
         "0.001",
         "0.001",
         "17667.0",
         "20667.0",
         "1.0"
        ],
        [
         "alpha_corr[WordReading, Vocab]",
         "0.555",
         "0.182",
         "0.192",
         "0.879",
         "0.002",
         "0.001",
         "6133.0",
         "12236.0",
         "1.0"
        ],
        [
         "alpha_corr[WordReading, Spelling]",
         "0.826",
         "0.096",
         "0.637",
         "0.976",
         "0.001",
         "0.001",
         "17667.0",
         "20667.0",
         "1.0"
        ],
        [
         "alpha_corr[WordReading, WordReading]",
         "1.0",
         "0.0",
         "1.0",
         "1.0",
         "0.0",
         "0.0",
         "30903.0",
         "30572.0",
         "1.0"
        ],
        [
         "eta_sd[Vocab]",
         "0.055",
         "0.043",
         "0.0",
         "0.138",
         "0.0",
         "0.0",
         "16217.0",
         "13352.0",
         "1.0"
        ],
        [
         "eta_sd[Spelling]",
         "0.07",
         "0.054",
         "0.0",
         "0.174",
         "0.0",
         "0.0",
         "17341.0",
         "15228.0",
         "1.0"
        ],
        [
         "eta_sd[WordReading]",
         "0.082",
         "0.062",
         "0.0",
         "0.2",
         "0.001",
         "0.0",
         "9476.0",
         "13515.0",
         "1.0"
        ],
        [
         "mu[Vocab, 1]",
         "-0.115",
         "0.1",
         "-0.309",
         "0.082",
         "0.001",
         "0.001",
         "19851.0",
         "21135.0",
         "1.0"
        ],
        [
         "mu[Vocab, 2]",
         "0.132",
         "0.1",
         "-0.062",
         "0.326",
         "0.001",
         "0.0",
         "28021.0",
         "26557.0",
         "1.0"
        ],
        [
         "mu[Vocab, 3]",
         "0.45",
         "0.105",
         "0.24",
         "0.652",
         "0.001",
         "0.001",
         "27337.0",
         "25000.0",
         "1.0"
        ],
        [
         "mu[Vocab, 4]",
         "0.655",
         "0.126",
         "0.406",
         "0.9",
         "0.001",
         "0.001",
         "31877.0",
         "26288.0",
         "1.0"
        ],
        [
         "mu[Spelling, 1]",
         "-1.89",
         "0.173",
         "-2.235",
         "-1.557",
         "0.001",
         "0.001",
         "15968.0",
         "19658.0",
         "1.0"
        ]
       ],
       "shape": {
        "columns": 9,
        "rows": 84
       }
      },
      "text/html": [
       "<div>\n",
       "<style scoped>\n",
       "    .dataframe tbody tr th:only-of-type {\n",
       "        vertical-align: middle;\n",
       "    }\n",
       "\n",
       "    .dataframe tbody tr th {\n",
       "        vertical-align: top;\n",
       "    }\n",
       "\n",
       "    .dataframe thead th {\n",
       "        text-align: right;\n",
       "    }\n",
       "</style>\n",
       "<table border=\"1\" class=\"dataframe\">\n",
       "  <thead>\n",
       "    <tr style=\"text-align: right;\">\n",
       "      <th></th>\n",
       "      <th>mean</th>\n",
       "      <th>sd</th>\n",
       "      <th>hdi_2.5%</th>\n",
       "      <th>hdi_97.5%</th>\n",
       "      <th>mcse_mean</th>\n",
       "      <th>mcse_sd</th>\n",
       "      <th>ess_bulk</th>\n",
       "      <th>ess_tail</th>\n",
       "      <th>r_hat</th>\n",
       "    </tr>\n",
       "  </thead>\n",
       "  <tbody>\n",
       "    <tr>\n",
       "      <th>B[Vocab, Vocab]</th>\n",
       "      <td>0.112</td>\n",
       "      <td>0.186</td>\n",
       "      <td>-0.244</td>\n",
       "      <td>0.473</td>\n",
       "      <td>0.001</td>\n",
       "      <td>0.001</td>\n",
       "      <td>35696.0</td>\n",
       "      <td>20790.0</td>\n",
       "      <td>1.00</td>\n",
       "    </tr>\n",
       "    <tr>\n",
       "      <th>B[Vocab, Spelling]</th>\n",
       "      <td>-0.018</td>\n",
       "      <td>0.132</td>\n",
       "      <td>-0.276</td>\n",
       "      <td>0.241</td>\n",
       "      <td>0.001</td>\n",
       "      <td>0.001</td>\n",
       "      <td>28446.0</td>\n",
       "      <td>21106.0</td>\n",
       "      <td>1.00</td>\n",
       "    </tr>\n",
       "    <tr>\n",
       "      <th>B[Vocab, WordReading]</th>\n",
       "      <td>-0.026</td>\n",
       "      <td>0.118</td>\n",
       "      <td>-0.264</td>\n",
       "      <td>0.202</td>\n",
       "      <td>0.001</td>\n",
       "      <td>0.001</td>\n",
       "      <td>22282.0</td>\n",
       "      <td>19086.0</td>\n",
       "      <td>1.00</td>\n",
       "    </tr>\n",
       "    <tr>\n",
       "      <th>B[Spelling, Vocab]</th>\n",
       "      <td>0.000</td>\n",
       "      <td>0.144</td>\n",
       "      <td>-0.279</td>\n",
       "      <td>0.282</td>\n",
       "      <td>0.001</td>\n",
       "      <td>0.001</td>\n",
       "      <td>41063.0</td>\n",
       "      <td>23101.0</td>\n",
       "      <td>1.00</td>\n",
       "    </tr>\n",
       "    <tr>\n",
       "      <th>B[Spelling, Spelling]</th>\n",
       "      <td>0.152</td>\n",
       "      <td>0.166</td>\n",
       "      <td>-0.185</td>\n",
       "      <td>0.456</td>\n",
       "      <td>0.001</td>\n",
       "      <td>0.001</td>\n",
       "      <td>19923.0</td>\n",
       "      <td>13168.0</td>\n",
       "      <td>1.00</td>\n",
       "    </tr>\n",
       "    <tr>\n",
       "      <th>...</th>\n",
       "      <td>...</td>\n",
       "      <td>...</td>\n",
       "      <td>...</td>\n",
       "      <td>...</td>\n",
       "      <td>...</td>\n",
       "      <td>...</td>\n",
       "      <td>...</td>\n",
       "      <td>...</td>\n",
       "      <td>...</td>\n",
       "    </tr>\n",
       "    <tr>\n",
       "      <th>items_per_logit[WordReading, 3]</th>\n",
       "      <td>24.365</td>\n",
       "      <td>0.943</td>\n",
       "      <td>22.537</td>\n",
       "      <td>26.021</td>\n",
       "      <td>0.007</td>\n",
       "      <td>0.005</td>\n",
       "      <td>18586.0</td>\n",
       "      <td>21997.0</td>\n",
       "      <td>1.00</td>\n",
       "    </tr>\n",
       "    <tr>\n",
       "      <th>items_per_logit[WordReading, 4]</th>\n",
       "      <td>26.076</td>\n",
       "      <td>0.247</td>\n",
       "      <td>25.586</td>\n",
       "      <td>26.250</td>\n",
       "      <td>0.002</td>\n",
       "      <td>0.003</td>\n",
       "      <td>22851.0</td>\n",
       "      <td>24665.0</td>\n",
       "      <td>1.00</td>\n",
       "    </tr>\n",
       "    <tr>\n",
       "      <th>delta[Vocab]</th>\n",
       "      <td>0.043</td>\n",
       "      <td>0.039</td>\n",
       "      <td>0.000</td>\n",
       "      <td>0.121</td>\n",
       "      <td>0.000</td>\n",
       "      <td>0.000</td>\n",
       "      <td>5886.0</td>\n",
       "      <td>10314.0</td>\n",
       "      <td>1.00</td>\n",
       "    </tr>\n",
       "    <tr>\n",
       "      <th>delta[Spelling]</th>\n",
       "      <td>0.112</td>\n",
       "      <td>0.120</td>\n",
       "      <td>0.000</td>\n",
       "      <td>0.366</td>\n",
       "      <td>0.004</td>\n",
       "      <td>0.003</td>\n",
       "      <td>1348.0</td>\n",
       "      <td>2757.0</td>\n",
       "      <td>1.01</td>\n",
       "    </tr>\n",
       "    <tr>\n",
       "      <th>delta[WordReading]</th>\n",
       "      <td>0.118</td>\n",
       "      <td>0.127</td>\n",
       "      <td>0.000</td>\n",
       "      <td>0.386</td>\n",
       "      <td>0.004</td>\n",
       "      <td>0.003</td>\n",
       "      <td>1268.0</td>\n",
       "      <td>2157.0</td>\n",
       "      <td>1.01</td>\n",
       "    </tr>\n",
       "  </tbody>\n",
       "</table>\n",
       "<p>84 rows × 9 columns</p>\n",
       "</div>"
      ],
      "text/plain": [
       "                                   mean     sd  hdi_2.5%  hdi_97.5%  \\\n",
       "B[Vocab, Vocab]                   0.112  0.186    -0.244      0.473   \n",
       "B[Vocab, Spelling]               -0.018  0.132    -0.276      0.241   \n",
       "B[Vocab, WordReading]            -0.026  0.118    -0.264      0.202   \n",
       "B[Spelling, Vocab]                0.000  0.144    -0.279      0.282   \n",
       "B[Spelling, Spelling]             0.152  0.166    -0.185      0.456   \n",
       "...                                 ...    ...       ...        ...   \n",
       "items_per_logit[WordReading, 3]  24.365  0.943    22.537     26.021   \n",
       "items_per_logit[WordReading, 4]  26.076  0.247    25.586     26.250   \n",
       "delta[Vocab]                      0.043  0.039     0.000      0.121   \n",
       "delta[Spelling]                   0.112  0.120     0.000      0.366   \n",
       "delta[WordReading]                0.118  0.127     0.000      0.386   \n",
       "\n",
       "                                 mcse_mean  mcse_sd  ess_bulk  ess_tail  r_hat  \n",
       "B[Vocab, Vocab]                      0.001    0.001   35696.0   20790.0   1.00  \n",
       "B[Vocab, Spelling]                   0.001    0.001   28446.0   21106.0   1.00  \n",
       "B[Vocab, WordReading]                0.001    0.001   22282.0   19086.0   1.00  \n",
       "B[Spelling, Vocab]                   0.001    0.001   41063.0   23101.0   1.00  \n",
       "B[Spelling, Spelling]                0.001    0.001   19923.0   13168.0   1.00  \n",
       "...                                    ...      ...       ...       ...    ...  \n",
       "items_per_logit[WordReading, 3]      0.007    0.005   18586.0   21997.0   1.00  \n",
       "items_per_logit[WordReading, 4]      0.002    0.003   22851.0   24665.0   1.00  \n",
       "delta[Vocab]                         0.000    0.000    5886.0   10314.0   1.00  \n",
       "delta[Spelling]                      0.004    0.003    1348.0    2757.0   1.01  \n",
       "delta[WordReading]                   0.004    0.003    1268.0    2157.0   1.01  \n",
       "\n",
       "[84 rows x 9 columns]"
      ]
     },
     "execution_count": 20,
     "metadata": {},
     "output_type": "execute_result"
    }
   ],
   "source": [
    "vars_to_report = [\n",
    "    \"B\",\n",
    "    \"B_autoregressive\",\n",
    "    \"B_crosslag\",\n",
    "    \"B_half_life\",\n",
    "    \"beta_age\",\n",
    "    \"beta_person\",\n",
    "    \"alpha_sd\",\n",
    "    \"alpha_corr\",\n",
    "    \"eta_sd\",\n",
    "    \"mu\",\n",
    "    \"p_bar\",\n",
    "    \"items_per_logit\",\n",
    "    \"delta\",\n",
    "]\n",
    "\n",
    "summary = az.summary(idata, var_names=vars_to_report, hdi_prob=0.95)\n",
    "summary.to_csv(\"summary3.csv\")\n",
    "summary"
   ]
  }
 ],
 "metadata": {
  "kernelspec": {
   "display_name": ".venv",
   "language": "python",
   "name": "python3"
  },
  "language_info": {
   "codemirror_mode": {
    "name": "ipython",
    "version": 3
   },
   "file_extension": ".py",
   "mimetype": "text/x-python",
   "name": "python",
   "nbconvert_exporter": "python",
   "pygments_lexer": "ipython3",
   "version": "3.13.7"
  }
 },
 "nbformat": 4,
 "nbformat_minor": 5
}
