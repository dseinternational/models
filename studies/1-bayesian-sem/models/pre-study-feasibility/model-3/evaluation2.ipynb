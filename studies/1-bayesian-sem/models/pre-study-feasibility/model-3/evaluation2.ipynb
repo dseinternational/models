{
 "cells": [
  {
   "cell_type": "markdown",
   "id": "f8ec35a7",
   "metadata": {},
   "source": [
    "# Model 3 - Evaluation 2\n",
    "\n",
    "[Model 3](readme.md) ....\n",
    "\n",
    "The model is defined in [model.py](model.py).\n",
    "\n",
    "Here, we evaluate the model using observed variables from data set 2 times 1 through 4.\n"
   ]
  },
  {
   "cell_type": "markdown",
   "id": "6d08954c",
   "metadata": {},
   "source": [
    "## Preliminaries\n"
   ]
  },
  {
   "cell_type": "code",
   "execution_count": 1,
   "id": "cc61b25d",
   "metadata": {},
   "outputs": [
    {
     "name": "stdout",
     "output_type": "stream",
     "text": [
      "Environment:\n",
      "  platform: macOS-26.0-arm64-arm-64bit-Mach-O\n",
      "  platform_version: Darwin Kernel Version 25.0.0: Mon Aug 25 21:16:39 PDT 2025; root:xnu-12377.1.9~3/RELEASE_ARM64_T6031\n",
      "  architecture: ('64bit', 'Mach-O')\n",
      "  processor: arm\n",
      "  cpu_count: 16\n",
      "  python: 3.13.7 (v3.13.7:bcee1c32211, Aug 14 2025, 19:10:51) [Clang 16.0.0 (clang-1600.0.26.6)]\n",
      "  pymc: 5.25.1\n",
      "  pytensor: 2.31.7\n",
      "  numpy: 2.3.3\n",
      "  arviz: 0.22.0\n"
     ]
    }
   ],
   "source": [
    "import platform\n",
    "import os\n",
    "import sys\n",
    "import arviz as az\n",
    "import matplotlib.pyplot as plt\n",
    "import numpy as np\n",
    "import pandas as pd\n",
    "import pymc as pm\n",
    "import pytensor\n",
    "import pytensor.tensor as pt\n",
    "import model as m\n",
    "from model import ModelConfig, ModelSpecification\n",
    "import xarray as xr\n",
    "\n",
    "pd.options.mode.copy_on_write = True\n",
    "\n",
    "pytensor.config.mode = \"NUMBA\"\n",
    "pytensor.config.print_active_device = True\n",
    "\n",
    "az.style.use(\"arviz-whitegrid\")\n",
    "\n",
    "environment = {\n",
    "    \"platform\": platform.platform(),\n",
    "    \"platform_version\": platform.version(),\n",
    "    \"architecture\": platform.architecture(),\n",
    "    \"processor\": platform.processor(),\n",
    "    \"cpu_count\": os.cpu_count(),\n",
    "    \"python\": sys.version,\n",
    "    \"pymc\": pm.__version__,\n",
    "    \"pytensor\": pytensor.__version__,\n",
    "    \"numpy\": np.__version__,\n",
    "    \"arviz\": az.__version__,\n",
    "}\n",
    "\n",
    "print(\"Environment:\")\n",
    "for key, value in environment.items():\n",
    "    print(f\"  {key}: {value}\")"
   ]
  },
  {
   "cell_type": "markdown",
   "id": "38651d91",
   "metadata": {},
   "source": [
    "### Load data\n"
   ]
  },
  {
   "cell_type": "code",
   "execution_count": 2,
   "id": "a63dc8dc",
   "metadata": {},
   "outputs": [],
   "source": [
    "df = pd.read_csv(\n",
    "    \"../../../../../data/reading-language-memory/rlm-data-5.csv\"\n",
    ").convert_dtypes()\n",
    "df = df[df[\"readgrp\"] == 2]"
   ]
  },
  {
   "cell_type": "markdown",
   "id": "ac763c20",
   "metadata": {},
   "source": [
    "## Evaluate model\n"
   ]
  },
  {
   "cell_type": "markdown",
   "id": "33785b58",
   "metadata": {},
   "source": [
    "### Build model\n"
   ]
  },
  {
   "cell_type": "code",
   "execution_count": 3,
   "id": "074dbffb",
   "metadata": {},
   "outputs": [],
   "source": [
    "spec = ModelSpecification(\n",
    "    age=df[\"age1\"].to_numpy(na_value=np.nan),\n",
    "    gender=df[\"sex\"].to_numpy(na_value=np.nan),    \n",
    "    rv=df[\n",
    "        [\"bpvs1\", \"bpvs2\", \"bpvs3\", \"bpvs4\"]\n",
    "    ].to_numpy(na_value=np.nan),\n",
    "    sp=df[\n",
    "        [\"basspel1\", \"basspel2\", \"basspel3\", \"basspel4\"]\n",
    "    ].to_numpy(na_value=np.nan),\n",
    "    wr=df[\n",
    "        [\"basread1\", \"basread2\", \"basread3\", \"basread4\"]\n",
    "    ].to_numpy(na_value=np.nan),\n",
    ")\n",
    "\n",
    "model = m.build_model(spec)"
   ]
  },
  {
   "cell_type": "markdown",
   "id": "e9ed9d36",
   "metadata": {},
   "source": [
    "### Model graph\n"
   ]
  },
  {
   "cell_type": "code",
   "execution_count": 4,
   "id": "a5221595",
   "metadata": {},
   "outputs": [],
   "source": [
    "# pm.model_to_graphviz(model)"
   ]
  },
  {
   "cell_type": "markdown",
   "id": "7324659e",
   "metadata": {},
   "source": [
    "### Run simulation\n"
   ]
  },
  {
   "cell_type": "code",
   "execution_count": 5,
   "id": "aed4b6ea",
   "metadata": {},
   "outputs": [
    {
     "data": {
      "application/vnd.jupyter.widget-view+json": {
       "model_id": "1d2f565ee15847aebe51ac92e7fde7e7",
       "version_major": 2,
       "version_minor": 0
      },
      "text/plain": [
       "  0%|          | 0/12000 [00:00<?, ?it/s]"
      ]
     },
     "metadata": {},
     "output_type": "display_data"
    },
    {
     "data": {
      "application/vnd.jupyter.widget-view+json": {
       "model_id": "9d9596d13afa42899e05829861597c95",
       "version_major": 2,
       "version_minor": 0
      },
      "text/plain": [
       "  0%|          | 0/12000 [00:00<?, ?it/s]"
      ]
     },
     "metadata": {},
     "output_type": "display_data"
    },
    {
     "data": {
      "application/vnd.jupyter.widget-view+json": {
       "model_id": "cf42a0d30cd7450985d6a7a42972adc1",
       "version_major": 2,
       "version_minor": 0
      },
      "text/plain": [
       "  0%|          | 0/12000 [00:00<?, ?it/s]"
      ]
     },
     "metadata": {},
     "output_type": "display_data"
    },
    {
     "data": {
      "application/vnd.jupyter.widget-view+json": {
       "model_id": "e9a0396a8f474d64988746441e5b8a90",
       "version_major": 2,
       "version_minor": 0
      },
      "text/plain": [
       "  0%|          | 0/12000 [00:00<?, ?it/s]"
      ]
     },
     "metadata": {},
     "output_type": "display_data"
    },
    {
     "name": "stderr",
     "output_type": "stream",
     "text": [
      "/Users/frankbuckley/dev/dseinternational/development-models/.venv/lib/python3.13/site-packages/jax/_src/interpreters/mlir.py:1316: UserWarning: Some donated buffers were not usable: float64[4,8000,6], float64[4,8000,42,3], float64[4,8000,42,3,3], float64[4,8000,6], float64[4,8000,42,3], float64[4,8000], float64[4,8000], float64[4,8000,42,4], float64[4,8000].\n",
      "See an explanation at https://docs.jax.dev/en/latest/faq.html#buffer-donation.\n",
      "  warnings.warn(\"Some donated buffers were not usable:\"\n"
     ]
    }
   ],
   "source": [
    "CHAINS = 4\n",
    "CORES = CHAINS\n",
    "RANDOM_SEED = 202509\n",
    "rng = np.random.default_rng(RANDOM_SEED)\n",
    "\n",
    "posterior_keep = [\n",
    "    \"B\",\n",
    "    \"B_autoregressive\",\n",
    "    \"B_crosslag\",\n",
    "    \"B_half_life\",\n",
    "    \"mu\",\n",
    "    \"beta_age\",\n",
    "    \"beta_person\",\n",
    "    \"rho\",\n",
    "    \"alpha_sd\",\n",
    "    \"alpha_corr\",\n",
    "    \"eta_sd\",\n",
    "    \"delta\",\n",
    "    \"p_bar\",\n",
    "    \"items_per_logit\",\n",
    "]\n",
    "\n",
    "with model:\n",
    "    idata = pm.sample(\n",
    "        draws=8000,\n",
    "        tune=4000,\n",
    "        chains=CHAINS,\n",
    "        cores=CORES,\n",
    "        target_accept=0.95,\n",
    "        var_names=posterior_keep,\n",
    "        idata_kwargs={\"log_likelihood\": True},\n",
    "        return_inferencedata=True,\n",
    "        init=\"jitter+adapt_diag\",\n",
    "        nuts_sampler=\"numpyro\",\n",
    "        chain_method=\"vectorized\",\n",
    "        # compile_kwargs=dict(mode=\"NUMBA\"),\n",
    "        random_seed=RANDOM_SEED,\n",
    "    )"
   ]
  },
  {
   "cell_type": "markdown",
   "id": "8e0dbb95",
   "metadata": {},
   "source": [
    "## Diagnostics\n"
   ]
  },
  {
   "cell_type": "code",
   "execution_count": 6,
   "id": "391e86b2",
   "metadata": {},
   "outputs": [
    {
     "data": {
      "text/plain": [
       "array([0.88298447, 0.85372687, 0.86711998, 0.84814756])"
      ]
     },
     "execution_count": 6,
     "metadata": {},
     "output_type": "execute_result"
    }
   ],
   "source": [
    "az.bfmi(idata)"
   ]
  },
  {
   "cell_type": "code",
   "execution_count": 7,
   "id": "96ec64e6",
   "metadata": {},
   "outputs": [
    {
     "data": {
      "text/plain": [
       "<Axes: >"
      ]
     },
     "execution_count": 7,
     "metadata": {},
     "output_type": "execute_result"
    },
    {
     "data": {
      "image/png": "[encoded data removed]",
      "text/plain": [
       "<Figure size 720x480 with 1 Axes>"
      ]
     },
     "metadata": {},
     "output_type": "display_data"
    }
   ],
   "source": [
    "az.plot_energy(idata)"
   ]
  },
  {
   "cell_type": "code",
   "execution_count": 8,
   "id": "68233811",
   "metadata": {},
   "outputs": [
    {
     "name": "stderr",
     "output_type": "stream",
     "text": [
      "/var/folders/xy/9cdy15js451fxxnb4jpgv4zh0000gn/T/ipykernel_18691/1443674258.py:8: UserWarning: The effect of Potentials on other parameters is ignored during prior predictive sampling. This is likely to lead to invalid or biased predictive samples.\n",
      "  idata_pp = pm.sample_prior_predictive(\n",
      "Sampling: [alpha_scale, alpha_z, beta_age, beta_person, day_raw, delta, delta_sd, eta_sd, init_scale, kappa_uncon, mu0, mu_step_sd, mu_steps, nu_mu_minus2, raw_B, state_shock, x1_z, y]\n"
     ]
    }
   ],
   "source": [
    "from pytensor import config\n",
    "\n",
    "if config.mode.upper() == \"NUMBA\":\n",
    "    config.mode = \"FAST_COMPILE\"\n",
    "\n",
    "with model:\n",
    "    # Prior predictive (force non-Numba mode)\n",
    "    idata_pp = pm.sample_prior_predictive(\n",
    "        samples=1000,\n",
    "        var_names=[\n",
    "            \"mu\",\n",
    "            \"B\",\n",
    "            \"rho\",\n",
    "            \"kappa\",\n",
    "            \"alpha_sd\",\n",
    "            \"alpha_corr\",\n",
    "            \"eta_sd\",\n",
    "            \"delta\",\n",
    "            \"y\",\n",
    "        ],\n",
    "        compile_kwargs={\n",
    "            \"mode\": \"FAST_COMPILE\"\n",
    "        }\n",
    "    )\n",
    "    idata.extend(idata_pp)"
   ]
  },
  {
   "cell_type": "code",
   "execution_count": 9,
   "id": "549a8db6",
   "metadata": {},
   "outputs": [
    {
     "name": "stdout",
     "output_type": "stream",
     "text": [
      "<xarray.DataArray 'mu' (quantile: 3, construct: 3, time: 4)> Size: 288B\n",
      "array([[[0.18141606, 0.16233113, 0.15003635, 0.13438572],\n",
      "        [0.03605347, 0.03268123, 0.02894289, 0.02717089],\n",
      "        [0.07989394, 0.07078118, 0.06392819, 0.05408111]],\n",
      "\n",
      "       [[0.32350224, 0.32395565, 0.32901067, 0.32579371],\n",
      "        [0.08180074, 0.0835625 , 0.08121004, 0.08070654],\n",
      "        [0.16257357, 0.1655159 , 0.16303723, 0.16534354]],\n",
      "\n",
      "       [[0.51565028, 0.5717314 , 0.5841058 , 0.62081756],\n",
      "        [0.17239434, 0.19812   , 0.22356363, 0.23208849],\n",
      "        [0.30090071, 0.34351292, 0.37398726, 0.41768871]]])\n",
      "Coordinates:\n",
      "  * construct  (construct) <U11 132B 'Vocab' 'Spelling' 'WordReading'\n",
      "  * time       (time) int64 32B 1 2 3 4\n",
      "  * quantile   (quantile) float64 24B 0.05 0.5 0.95\n"
     ]
    },
    {
     "data": {
      "application/vnd.microsoft.datawrangler.viewer.v0+json": {
       "columns": [
        {
         "name": "('construct', 'time')",
         "rawType": "object",
         "type": "unknown"
        },
        {
         "name": "q05",
         "rawType": "float64",
         "type": "float"
        },
        {
         "name": "q50",
         "rawType": "float64",
         "type": "float"
        },
        {
         "name": "q95",
         "rawType": "float64",
         "type": "float"
        }
       ],
       "ref": "1a4f554c-68d3-40d9-9b05-0fa36733e4b3",
       "rows": [
        [
         "('Spelling', np.int64(1))",
         "0.036053466888778",
         "0.08180074471562579",
         "0.1723943448715254"
        ],
        [
         "('Spelling', np.int64(2))",
         "0.03268122733166569",
         "0.08356250102492713",
         "0.19812000441514122"
        ],
        [
         "('Spelling', np.int64(3))",
         "0.02894289242354222",
         "0.0812100389264167",
         "0.2235636334952699"
        ],
        [
         "('Spelling', np.int64(4))",
         "0.027170894141538258",
         "0.08070654051781555",
         "0.23208849425117642"
        ],
        [
         "('Vocab', np.int64(1))",
         "0.18141606417111292",
         "0.32350223940729617",
         "0.5156502825819221"
        ],
        [
         "('Vocab', np.int64(2))",
         "0.1623311315782045",
         "0.32395564598206883",
         "0.5717313962211659"
        ],
        [
         "('Vocab', np.int64(3))",
         "0.15003635323519046",
         "0.32901066530846795",
         "0.5841058044782386"
        ],
        [
         "('Vocab', np.int64(4))",
         "0.13438571611603978",
         "0.3257937146577181",
         "0.6208175573647198"
        ],
        [
         "('WordReading', np.int64(1))",
         "0.07989393852311678",
         "0.1625735682463309",
         "0.3009007131636611"
        ],
        [
         "('WordReading', np.int64(2))",
         "0.07078117974821761",
         "0.16551590239295005",
         "0.3435129162925531"
        ],
        [
         "('WordReading', np.int64(3))",
         "0.06392819221129968",
         "0.16303722849178737",
         "0.37398726075816624"
        ],
        [
         "('WordReading', np.int64(4))",
         "0.054081112343652434",
         "0.16534354082400182",
         "0.4176887122271294"
        ]
       ],
       "shape": {
        "columns": 3,
        "rows": 12
       }
      },
      "text/html": [
       "<div>\n",
       "<style scoped>\n",
       "    .dataframe tbody tr th:only-of-type {\n",
       "        vertical-align: middle;\n",
       "    }\n",
       "\n",
       "    .dataframe tbody tr th {\n",
       "        vertical-align: top;\n",
       "    }\n",
       "\n",
       "    .dataframe thead th {\n",
       "        text-align: right;\n",
       "    }\n",
       "</style>\n",
       "<table border=\"1\" class=\"dataframe\">\n",
       "  <thead>\n",
       "    <tr style=\"text-align: right;\">\n",
       "      <th></th>\n",
       "      <th>quantile</th>\n",
       "      <th>q05</th>\n",
       "      <th>q50</th>\n",
       "      <th>q95</th>\n",
       "    </tr>\n",
       "    <tr>\n",
       "      <th>construct</th>\n",
       "      <th>time</th>\n",
       "      <th></th>\n",
       "      <th></th>\n",
       "      <th></th>\n",
       "    </tr>\n",
       "  </thead>\n",
       "  <tbody>\n",
       "    <tr>\n",
       "      <th rowspan=\"4\" valign=\"top\">Spelling</th>\n",
       "      <th>1</th>\n",
       "      <td>0.036053</td>\n",
       "      <td>0.081801</td>\n",
       "      <td>0.172394</td>\n",
       "    </tr>\n",
       "    <tr>\n",
       "      <th>2</th>\n",
       "      <td>0.032681</td>\n",
       "      <td>0.083563</td>\n",
       "      <td>0.198120</td>\n",
       "    </tr>\n",
       "    <tr>\n",
       "      <th>3</th>\n",
       "      <td>0.028943</td>\n",
       "      <td>0.081210</td>\n",
       "      <td>0.223564</td>\n",
       "    </tr>\n",
       "    <tr>\n",
       "      <th>4</th>\n",
       "      <td>0.027171</td>\n",
       "      <td>0.080707</td>\n",
       "      <td>0.232088</td>\n",
       "    </tr>\n",
       "    <tr>\n",
       "      <th rowspan=\"4\" valign=\"top\">Vocab</th>\n",
       "      <th>1</th>\n",
       "      <td>0.181416</td>\n",
       "      <td>0.323502</td>\n",
       "      <td>0.515650</td>\n",
       "    </tr>\n",
       "    <tr>\n",
       "      <th>2</th>\n",
       "      <td>0.162331</td>\n",
       "      <td>0.323956</td>\n",
       "      <td>0.571731</td>\n",
       "    </tr>\n",
       "    <tr>\n",
       "      <th>3</th>\n",
       "      <td>0.150036</td>\n",
       "      <td>0.329011</td>\n",
       "      <td>0.584106</td>\n",
       "    </tr>\n",
       "    <tr>\n",
       "      <th>4</th>\n",
       "      <td>0.134386</td>\n",
       "      <td>0.325794</td>\n",
       "      <td>0.620818</td>\n",
       "    </tr>\n",
       "    <tr>\n",
       "      <th rowspan=\"4\" valign=\"top\">WordReading</th>\n",
       "      <th>1</th>\n",
       "      <td>0.079894</td>\n",
       "      <td>0.162574</td>\n",
       "      <td>0.300901</td>\n",
       "    </tr>\n",
       "    <tr>\n",
       "      <th>2</th>\n",
       "      <td>0.070781</td>\n",
       "      <td>0.165516</td>\n",
       "      <td>0.343513</td>\n",
       "    </tr>\n",
       "    <tr>\n",
       "      <th>3</th>\n",
       "      <td>0.063928</td>\n",
       "      <td>0.163037</td>\n",
       "      <td>0.373987</td>\n",
       "    </tr>\n",
       "    <tr>\n",
       "      <th>4</th>\n",
       "      <td>0.054081</td>\n",
       "      <td>0.165344</td>\n",
       "      <td>0.417689</td>\n",
       "    </tr>\n",
       "  </tbody>\n",
       "</table>\n",
       "</div>"
      ],
      "text/plain": [
       "quantile               q05       q50       q95\n",
       "construct   time                              \n",
       "Spelling    1     0.036053  0.081801  0.172394\n",
       "            2     0.032681  0.083563  0.198120\n",
       "            3     0.028943  0.081210  0.223564\n",
       "            4     0.027171  0.080707  0.232088\n",
       "Vocab       1     0.181416  0.323502  0.515650\n",
       "            2     0.162331  0.323956  0.571731\n",
       "            3     0.150036  0.329011  0.584106\n",
       "            4     0.134386  0.325794  0.620818\n",
       "WordReading 1     0.079894  0.162574  0.300901\n",
       "            2     0.070781  0.165516  0.343513\n",
       "            3     0.063928  0.163037  0.373987\n",
       "            4     0.054081  0.165344  0.417689"
      ]
     },
     "execution_count": 9,
     "metadata": {},
     "output_type": "execute_result"
    }
   ],
   "source": [
    "\n",
    "# 1) Get mu from the *prior* group (not prior_predictive)\n",
    "mu = idata_pp.prior[\"mu\"]                   # dims: (\"chain\",\"draw\",\"construct\",\"time\")\n",
    "\n",
    "# 2) Collapse chains -> one sample axis\n",
    "mu_s = mu.stack(sample=(\"chain\",\"draw\"))    # dims: (\"sample\",\"construct\",\"time\")\n",
    "\n",
    "# 3) Convert to probabilities\n",
    "p = 1 / (1 + np.exp(-mu_s))                 # same dims\n",
    "\n",
    "# 4) Quantiles over samples -> dims (\"quantile\",\"construct\",\"time\")\n",
    "q = p.quantile(q=[0.05, 0.50, 0.95], dim=\"sample\")\n",
    "\n",
    "# 5a) Stay in xarray (recommended)\n",
    "print(q)\n",
    "\n",
    "# 5b) Or make a tidy pandas table with MultiIndex rows and quantiles as columns\n",
    "df_p = (\n",
    "    q.to_dataframe(name=\"p\")                # index: quantile, construct, time\n",
    "      .reset_index()\n",
    "      .pivot_table(index=[\"construct\",\"time\"], columns=\"quantile\", values=\"p\")\n",
    "      .rename(columns={0.05:\"q05\", 0.50:\"q50\", 0.95:\"q95\"})\n",
    "      .sort_index()\n",
    ")\n",
    "df_p\n"
   ]
  },
  {
   "cell_type": "markdown",
   "id": "720c2a0e",
   "metadata": {},
   "source": [
    "## Summaries\n"
   ]
  },
  {
   "cell_type": "code",
   "execution_count": 10,
   "id": "de5e6d7d",
   "metadata": {},
   "outputs": [
    {
     "name": "stderr",
     "output_type": "stream",
     "text": [
      "/Users/frankbuckley/dev/dseinternational/development-models/.venv/lib/python3.13/site-packages/arviz/stats/diagnostics.py:596: RuntimeWarning: invalid value encountered in scalar divide\n",
      "  (between_chain_variance / within_chain_variance + num_samples - 1) / (num_samples)\n",
      "/Users/frankbuckley/dev/dseinternational/development-models/.venv/lib/python3.13/site-packages/arviz/stats/diagnostics.py:991: RuntimeWarning: invalid value encountered in scalar divide\n",
      "  varsd = varvar / evar / 4\n",
      "/Users/frankbuckley/dev/dseinternational/development-models/.venv/lib/python3.13/site-packages/arviz/stats/diagnostics.py:596: RuntimeWarning: invalid value encountered in scalar divide\n",
      "  (between_chain_variance / within_chain_variance + num_samples - 1) / (num_samples)\n",
      "/Users/frankbuckley/dev/dseinternational/development-models/.venv/lib/python3.13/site-packages/arviz/stats/diagnostics.py:991: RuntimeWarning: invalid value encountered in scalar divide\n",
      "  varsd = varvar / evar / 4\n",
      "/Users/frankbuckley/dev/dseinternational/development-models/.venv/lib/python3.13/site-packages/arviz/stats/diagnostics.py:596: RuntimeWarning: invalid value encountered in scalar divide\n",
      "  (between_chain_variance / within_chain_variance + num_samples - 1) / (num_samples)\n",
      "/Users/frankbuckley/dev/dseinternational/development-models/.venv/lib/python3.13/site-packages/arviz/stats/diagnostics.py:991: RuntimeWarning: invalid value encountered in scalar divide\n",
      "  varsd = varvar / evar / 4\n",
      "/Users/frankbuckley/dev/dseinternational/development-models/.venv/lib/python3.13/site-packages/arviz/stats/diagnostics.py:596: RuntimeWarning: invalid value encountered in scalar divide\n",
      "  (between_chain_variance / within_chain_variance + num_samples - 1) / (num_samples)\n",
      "/Users/frankbuckley/dev/dseinternational/development-models/.venv/lib/python3.13/site-packages/arviz/stats/diagnostics.py:991: RuntimeWarning: invalid value encountered in scalar divide\n",
      "  varsd = varvar / evar / 4\n"
     ]
    },
    {
     "data": {
      "application/vnd.microsoft.datawrangler.viewer.v0+json": {
       "columns": [
        {
         "name": "index",
         "rawType": "object",
         "type": "string"
        },
        {
         "name": "mean",
         "rawType": "float64",
         "type": "float"
        },
        {
         "name": "sd",
         "rawType": "float64",
         "type": "float"
        },
        {
         "name": "hdi_2.5%",
         "rawType": "float64",
         "type": "float"
        },
        {
         "name": "hdi_97.5%",
         "rawType": "float64",
         "type": "float"
        },
        {
         "name": "mcse_mean",
         "rawType": "float64",
         "type": "float"
        },
        {
         "name": "mcse_sd",
         "rawType": "float64",
         "type": "float"
        },
        {
         "name": "ess_bulk",
         "rawType": "float64",
         "type": "float"
        },
        {
         "name": "ess_tail",
         "rawType": "float64",
         "type": "float"
        },
        {
         "name": "r_hat",
         "rawType": "float64",
         "type": "float"
        }
       ],
       "ref": "0f33addd-f1cc-400c-9303-2d125e165243",
       "rows": [
        [
         "B[Vocab, Vocab]",
         "0.123",
         "0.186",
         "-0.234",
         "0.486",
         "0.001",
         "0.001",
         "49586.0",
         "26037.0",
         "1.0"
        ],
        [
         "B[Vocab, Spelling]",
         "0.0",
         "0.133",
         "-0.246",
         "0.274",
         "0.001",
         "0.001",
         "40966.0",
         "25874.0",
         "1.0"
        ],
        [
         "B[Vocab, WordReading]",
         "-0.017",
         "0.104",
         "-0.219",
         "0.189",
         "0.001",
         "0.001",
         "26045.0",
         "23458.0",
         "1.0"
        ],
        [
         "B[Spelling, Vocab]",
         "0.014",
         "0.143",
         "-0.262",
         "0.294",
         "0.001",
         "0.001",
         "58606.0",
         "23578.0",
         "1.0"
        ],
        [
         "B[Spelling, Spelling]",
         "0.195",
         "0.162",
         "-0.124",
         "0.502",
         "0.001",
         "0.001",
         "24300.0",
         "24498.0",
         "1.0"
        ],
        [
         "B[Spelling, WordReading]",
         "0.115",
         "0.116",
         "-0.112",
         "0.338",
         "0.001",
         "0.001",
         "11309.0",
         "18771.0",
         "1.0"
        ],
        [
         "B[WordReading, Vocab]",
         "0.024",
         "0.138",
         "-0.24",
         "0.288",
         "0.001",
         "0.001",
         "46129.0",
         "27693.0",
         "1.0"
        ],
        [
         "B[WordReading, Spelling]",
         "0.1",
         "0.139",
         "-0.168",
         "0.369",
         "0.001",
         "0.001",
         "19710.0",
         "23769.0",
         "1.0"
        ],
        [
         "B[WordReading, WordReading]",
         "0.399",
         "0.093",
         "0.211",
         "0.575",
         "0.001",
         "0.001",
         "6829.0",
         "5468.0",
         "1.0"
        ],
        [
         "B_autoregressive[Vocab]",
         "0.123",
         "0.186",
         "-0.234",
         "0.486",
         "0.001",
         "0.001",
         "49586.0",
         "26037.0",
         "1.0"
        ],
        [
         "B_autoregressive[Spelling]",
         "0.195",
         "0.162",
         "-0.124",
         "0.502",
         "0.001",
         "0.001",
         "24300.0",
         "24498.0",
         "1.0"
        ],
        [
         "B_autoregressive[WordReading]",
         "0.399",
         "0.093",
         "0.211",
         "0.575",
         "0.001",
         "0.001",
         "6829.0",
         "5468.0",
         "1.0"
        ],
        [
         "B_crosslag[Vocab, Vocab]",
         "0.0",
         "0.0",
         "-0.0",
         "0.0",
         "0.0",
         null,
         "32000.0",
         "32000.0",
         null
        ],
        [
         "B_crosslag[Vocab, Spelling]",
         "0.0",
         "0.133",
         "-0.246",
         "0.274",
         "0.001",
         "0.001",
         "40966.0",
         "25874.0",
         "1.0"
        ],
        [
         "B_crosslag[Vocab, WordReading]",
         "-0.017",
         "0.104",
         "-0.219",
         "0.189",
         "0.001",
         "0.001",
         "26045.0",
         "23458.0",
         "1.0"
        ],
        [
         "B_crosslag[Spelling, Vocab]",
         "0.014",
         "0.143",
         "-0.262",
         "0.294",
         "0.001",
         "0.001",
         "58606.0",
         "23578.0",
         "1.0"
        ],
        [
         "B_crosslag[Spelling, Spelling]",
         "0.0",
         "0.0",
         "0.0",
         "0.0",
         "0.0",
         null,
         "32000.0",
         "32000.0",
         null
        ],
        [
         "B_crosslag[Spelling, WordReading]",
         "0.115",
         "0.116",
         "-0.112",
         "0.338",
         "0.001",
         "0.001",
         "11309.0",
         "18771.0",
         "1.0"
        ],
        [
         "B_crosslag[WordReading, Vocab]",
         "0.024",
         "0.138",
         "-0.24",
         "0.288",
         "0.001",
         "0.001",
         "46129.0",
         "27693.0",
         "1.0"
        ],
        [
         "B_crosslag[WordReading, Spelling]",
         "0.1",
         "0.139",
         "-0.168",
         "0.369",
         "0.001",
         "0.001",
         "19710.0",
         "23769.0",
         "1.0"
        ],
        [
         "B_crosslag[WordReading, WordReading]",
         "0.0",
         "0.0",
         "0.0",
         "0.0",
         "0.0",
         null,
         "32000.0",
         "32000.0",
         null
        ],
        [
         "B_half_life[Vocab]",
         "0.418",
         "0.207",
         "0.11",
         "0.835",
         "0.001",
         "0.002",
         "24565.0",
         "24077.0",
         "1.0"
        ],
        [
         "B_half_life[Spelling]",
         "0.47",
         "0.212",
         "0.113",
         "0.877",
         "0.001",
         "0.001",
         "26031.0",
         "25353.0",
         "1.0"
        ],
        [
         "B_half_life[WordReading]",
         "0.781",
         "0.206",
         "0.408",
         "1.194",
         "0.003",
         "0.003",
         "6837.0",
         "5468.0",
         "1.0"
        ],
        [
         "beta_age[Vocab]",
         "0.386",
         "0.068",
         "0.252",
         "0.518",
         "0.001",
         "0.0",
         "17130.0",
         "22189.0",
         "1.0"
        ],
        [
         "beta_age[Spelling]",
         "0.449",
         "0.095",
         "0.262",
         "0.633",
         "0.001",
         "0.001",
         "5661.0",
         "6510.0",
         "1.0"
        ],
        [
         "beta_age[WordReading]",
         "0.47",
         "0.116",
         "0.24",
         "0.693",
         "0.001",
         "0.001",
         "7630.0",
         "8765.0",
         "1.0"
        ],
        [
         "beta_person[gender, Vocab]",
         "-0.235",
         "0.1",
         "-0.435",
         "-0.035",
         "0.001",
         "0.001",
         "38759.0",
         "25919.0",
         "1.0"
        ],
        [
         "beta_person[gender, Spelling]",
         "0.041",
         "0.122",
         "-0.199",
         "0.277",
         "0.001",
         "0.001",
         "28248.0",
         "26870.0",
         "1.0"
        ],
        [
         "beta_person[gender, WordReading]",
         "-0.036",
         "0.153",
         "-0.34",
         "0.261",
         "0.001",
         "0.001",
         "25841.0",
         "25261.0",
         "1.0"
        ],
        [
         "alpha_sd[Vocab]",
         "0.185",
         "0.071",
         "0.027",
         "0.319",
         "0.001",
         "0.001",
         "6742.0",
         "6257.0",
         "1.0"
        ],
        [
         "alpha_sd[Spelling]",
         "0.26",
         "0.073",
         "0.111",
         "0.41",
         "0.001",
         "0.001",
         "4084.0",
         "1626.0",
         "1.0"
        ],
        [
         "alpha_sd[WordReading]",
         "0.406",
         "0.09",
         "0.232",
         "0.586",
         "0.002",
         "0.003",
         "3593.0",
         "1316.0",
         "1.0"
        ],
        [
         "alpha_corr[Vocab, Vocab]",
         "1.0",
         "0.0",
         "1.0",
         "1.0",
         "0.0",
         null,
         "32000.0",
         "32000.0",
         null
        ],
        [
         "alpha_corr[Vocab, Spelling]",
         "0.178",
         "0.269",
         "-0.353",
         "0.686",
         "0.003",
         "0.002",
         "9643.0",
         "9781.0",
         "1.0"
        ],
        [
         "alpha_corr[Vocab, WordReading]",
         "0.224",
         "0.251",
         "-0.257",
         "0.716",
         "0.003",
         "0.002",
         "8049.0",
         "8017.0",
         "1.0"
        ],
        [
         "alpha_corr[Spelling, Vocab]",
         "0.178",
         "0.269",
         "-0.353",
         "0.686",
         "0.003",
         "0.002",
         "9643.0",
         "9781.0",
         "1.0"
        ],
        [
         "alpha_corr[Spelling, Spelling]",
         "1.0",
         "0.0",
         "1.0",
         "1.0",
         "0.0",
         "0.0",
         "32114.0",
         "32000.0",
         "1.0"
        ],
        [
         "alpha_corr[Spelling, WordReading]",
         "0.772",
         "0.179",
         "0.464",
         "0.983",
         "0.004",
         "0.008",
         "4496.0",
         "2039.0",
         "1.0"
        ],
        [
         "alpha_corr[WordReading, Vocab]",
         "0.224",
         "0.251",
         "-0.257",
         "0.716",
         "0.003",
         "0.002",
         "8049.0",
         "8017.0",
         "1.0"
        ],
        [
         "alpha_corr[WordReading, Spelling]",
         "0.772",
         "0.179",
         "0.464",
         "0.983",
         "0.004",
         "0.008",
         "4496.0",
         "2039.0",
         "1.0"
        ],
        [
         "alpha_corr[WordReading, WordReading]",
         "1.0",
         "0.0",
         "1.0",
         "1.0",
         "0.0",
         "0.0",
         "31837.0",
         "31330.0",
         "1.0"
        ],
        [
         "eta_sd[Vocab]",
         "0.052",
         "0.04",
         "0.0",
         "0.13",
         "0.0",
         "0.0",
         "19000.0",
         "17034.0",
         "1.0"
        ],
        [
         "eta_sd[Spelling]",
         "0.047",
         "0.036",
         "0.0",
         "0.117",
         "0.0",
         "0.0",
         "21645.0",
         "16931.0",
         "1.0"
        ],
        [
         "eta_sd[WordReading]",
         "0.072",
         "0.054",
         "0.0",
         "0.177",
         "0.001",
         "0.001",
         "6197.0",
         "5600.0",
         "1.0"
        ],
        [
         "mu[Vocab, 1]",
         "0.318",
         "0.078",
         "0.17",
         "0.475",
         "0.0",
         "0.0",
         "39878.0",
         "23391.0",
         "1.0"
        ],
        [
         "mu[Vocab, 2]",
         "0.551",
         "0.079",
         "0.398",
         "0.707",
         "0.0",
         "0.0",
         "47136.0",
         "24766.0",
         "1.0"
        ],
        [
         "mu[Vocab, 3]",
         "0.732",
         "0.085",
         "0.569",
         "0.902",
         "0.0",
         "0.0",
         "41041.0",
         "27021.0",
         "1.0"
        ],
        [
         "mu[Vocab, 4]",
         "1.008",
         "0.101",
         "0.814",
         "1.208",
         "0.0",
         "0.001",
         "44501.0",
         "27431.0",
         "1.0"
        ],
        [
         "mu[Spelling, 1]",
         "-1.008",
         "0.117",
         "-1.241",
         "-0.782",
         "0.001",
         "0.001",
         "21654.0",
         "22192.0",
         "1.0"
        ]
       ],
       "shape": {
        "columns": 9,
        "rows": 84
       }
      },
      "text/html": [
       "<div>\n",
       "<style scoped>\n",
       "    .dataframe tbody tr th:only-of-type {\n",
       "        vertical-align: middle;\n",
       "    }\n",
       "\n",
       "    .dataframe tbody tr th {\n",
       "        vertical-align: top;\n",
       "    }\n",
       "\n",
       "    .dataframe thead th {\n",
       "        text-align: right;\n",
       "    }\n",
       "</style>\n",
       "<table border=\"1\" class=\"dataframe\">\n",
       "  <thead>\n",
       "    <tr style=\"text-align: right;\">\n",
       "      <th></th>\n",
       "      <th>mean</th>\n",
       "      <th>sd</th>\n",
       "      <th>hdi_2.5%</th>\n",
       "      <th>hdi_97.5%</th>\n",
       "      <th>mcse_mean</th>\n",
       "      <th>mcse_sd</th>\n",
       "      <th>ess_bulk</th>\n",
       "      <th>ess_tail</th>\n",
       "      <th>r_hat</th>\n",
       "    </tr>\n",
       "  </thead>\n",
       "  <tbody>\n",
       "    <tr>\n",
       "      <th>B[Vocab, Vocab]</th>\n",
       "      <td>0.123</td>\n",
       "      <td>0.186</td>\n",
       "      <td>-0.234</td>\n",
       "      <td>0.486</td>\n",
       "      <td>0.001</td>\n",
       "      <td>0.001</td>\n",
       "      <td>49586.0</td>\n",
       "      <td>26037.0</td>\n",
       "      <td>1.0</td>\n",
       "    </tr>\n",
       "    <tr>\n",
       "      <th>B[Vocab, Spelling]</th>\n",
       "      <td>0.000</td>\n",
       "      <td>0.133</td>\n",
       "      <td>-0.246</td>\n",
       "      <td>0.274</td>\n",
       "      <td>0.001</td>\n",
       "      <td>0.001</td>\n",
       "      <td>40966.0</td>\n",
       "      <td>25874.0</td>\n",
       "      <td>1.0</td>\n",
       "    </tr>\n",
       "    <tr>\n",
       "      <th>B[Vocab, WordReading]</th>\n",
       "      <td>-0.017</td>\n",
       "      <td>0.104</td>\n",
       "      <td>-0.219</td>\n",
       "      <td>0.189</td>\n",
       "      <td>0.001</td>\n",
       "      <td>0.001</td>\n",
       "      <td>26045.0</td>\n",
       "      <td>23458.0</td>\n",
       "      <td>1.0</td>\n",
       "    </tr>\n",
       "    <tr>\n",
       "      <th>B[Spelling, Vocab]</th>\n",
       "      <td>0.014</td>\n",
       "      <td>0.143</td>\n",
       "      <td>-0.262</td>\n",
       "      <td>0.294</td>\n",
       "      <td>0.001</td>\n",
       "      <td>0.001</td>\n",
       "      <td>58606.0</td>\n",
       "      <td>23578.0</td>\n",
       "      <td>1.0</td>\n",
       "    </tr>\n",
       "    <tr>\n",
       "      <th>B[Spelling, Spelling]</th>\n",
       "      <td>0.195</td>\n",
       "      <td>0.162</td>\n",
       "      <td>-0.124</td>\n",
       "      <td>0.502</td>\n",
       "      <td>0.001</td>\n",
       "      <td>0.001</td>\n",
       "      <td>24300.0</td>\n",
       "      <td>24498.0</td>\n",
       "      <td>1.0</td>\n",
       "    </tr>\n",
       "    <tr>\n",
       "      <th>...</th>\n",
       "      <td>...</td>\n",
       "      <td>...</td>\n",
       "      <td>...</td>\n",
       "      <td>...</td>\n",
       "      <td>...</td>\n",
       "      <td>...</td>\n",
       "      <td>...</td>\n",
       "      <td>...</td>\n",
       "      <td>...</td>\n",
       "    </tr>\n",
       "    <tr>\n",
       "      <th>items_per_logit[WordReading, 3]</th>\n",
       "      <td>24.102</td>\n",
       "      <td>0.637</td>\n",
       "      <td>22.838</td>\n",
       "      <td>25.293</td>\n",
       "      <td>0.004</td>\n",
       "      <td>0.003</td>\n",
       "      <td>32480.0</td>\n",
       "      <td>26252.0</td>\n",
       "      <td>1.0</td>\n",
       "    </tr>\n",
       "    <tr>\n",
       "      <th>items_per_logit[WordReading, 4]</th>\n",
       "      <td>19.102</td>\n",
       "      <td>1.037</td>\n",
       "      <td>17.022</td>\n",
       "      <td>21.079</td>\n",
       "      <td>0.006</td>\n",
       "      <td>0.005</td>\n",
       "      <td>33075.0</td>\n",
       "      <td>22154.0</td>\n",
       "      <td>1.0</td>\n",
       "    </tr>\n",
       "    <tr>\n",
       "      <th>delta[Vocab]</th>\n",
       "      <td>0.028</td>\n",
       "      <td>0.028</td>\n",
       "      <td>0.000</td>\n",
       "      <td>0.085</td>\n",
       "      <td>0.000</td>\n",
       "      <td>0.000</td>\n",
       "      <td>13631.0</td>\n",
       "      <td>14680.0</td>\n",
       "      <td>1.0</td>\n",
       "    </tr>\n",
       "    <tr>\n",
       "      <th>delta[Spelling]</th>\n",
       "      <td>0.031</td>\n",
       "      <td>0.033</td>\n",
       "      <td>0.000</td>\n",
       "      <td>0.098</td>\n",
       "      <td>0.000</td>\n",
       "      <td>0.000</td>\n",
       "      <td>11539.0</td>\n",
       "      <td>13613.0</td>\n",
       "      <td>1.0</td>\n",
       "    </tr>\n",
       "    <tr>\n",
       "      <th>delta[WordReading]</th>\n",
       "      <td>0.035</td>\n",
       "      <td>0.038</td>\n",
       "      <td>0.000</td>\n",
       "      <td>0.112</td>\n",
       "      <td>0.000</td>\n",
       "      <td>0.001</td>\n",
       "      <td>9437.0</td>\n",
       "      <td>12096.0</td>\n",
       "      <td>1.0</td>\n",
       "    </tr>\n",
       "  </tbody>\n",
       "</table>\n",
       "<p>84 rows × 9 columns</p>\n",
       "</div>"
      ],
      "text/plain": [
       "                                   mean     sd  hdi_2.5%  hdi_97.5%  \\\n",
       "B[Vocab, Vocab]                   0.123  0.186    -0.234      0.486   \n",
       "B[Vocab, Spelling]                0.000  0.133    -0.246      0.274   \n",
       "B[Vocab, WordReading]            -0.017  0.104    -0.219      0.189   \n",
       "B[Spelling, Vocab]                0.014  0.143    -0.262      0.294   \n",
       "B[Spelling, Spelling]             0.195  0.162    -0.124      0.502   \n",
       "...                                 ...    ...       ...        ...   \n",
       "items_per_logit[WordReading, 3]  24.102  0.637    22.838     25.293   \n",
       "items_per_logit[WordReading, 4]  19.102  1.037    17.022     21.079   \n",
       "delta[Vocab]                      0.028  0.028     0.000      0.085   \n",
       "delta[Spelling]                   0.031  0.033     0.000      0.098   \n",
       "delta[WordReading]                0.035  0.038     0.000      0.112   \n",
       "\n",
       "                                 mcse_mean  mcse_sd  ess_bulk  ess_tail  r_hat  \n",
       "B[Vocab, Vocab]                      0.001    0.001   49586.0   26037.0    1.0  \n",
       "B[Vocab, Spelling]                   0.001    0.001   40966.0   25874.0    1.0  \n",
       "B[Vocab, WordReading]                0.001    0.001   26045.0   23458.0    1.0  \n",
       "B[Spelling, Vocab]                   0.001    0.001   58606.0   23578.0    1.0  \n",
       "B[Spelling, Spelling]                0.001    0.001   24300.0   24498.0    1.0  \n",
       "...                                    ...      ...       ...       ...    ...  \n",
       "items_per_logit[WordReading, 3]      0.004    0.003   32480.0   26252.0    1.0  \n",
       "items_per_logit[WordReading, 4]      0.006    0.005   33075.0   22154.0    1.0  \n",
       "delta[Vocab]                         0.000    0.000   13631.0   14680.0    1.0  \n",
       "delta[Spelling]                      0.000    0.000   11539.0   13613.0    1.0  \n",
       "delta[WordReading]                   0.000    0.001    9437.0   12096.0    1.0  \n",
       "\n",
       "[84 rows x 9 columns]"
      ]
     },
     "execution_count": 10,
     "metadata": {},
     "output_type": "execute_result"
    }
   ],
   "source": [
    "vars_to_report = [\n",
    "    \"B\",\n",
    "    \"B_autoregressive\",\n",
    "    \"B_crosslag\",\n",
    "    \"B_half_life\",\n",
    "    \"beta_age\",\n",
    "    \"beta_person\",\n",
    "    \"alpha_sd\",\n",
    "    \"alpha_corr\",\n",
    "    \"eta_sd\",\n",
    "    \"mu\",\n",
    "    \"p_bar\",\n",
    "    \"items_per_logit\",\n",
    "    \"delta\",\n",
    "]\n",
    "\n",
    "summary = az.summary(idata, var_names=vars_to_report, hdi_prob=0.95)\n",
    "summary.to_csv(\"summary2.csv\")\n",
    "summary"
   ]
  }
 ],
 "metadata": {
  "kernelspec": {
   "display_name": ".venv",
   "language": "python",
   "name": "python3"
  },
  "language_info": {
   "codemirror_mode": {
    "name": "ipython",
    "version": 3
   },
   "file_extension": ".py",
   "mimetype": "text/x-python",
   "name": "python",
   "nbconvert_exporter": "python",
   "pygments_lexer": "ipython3",
   "version": "3.13.7"
  }
 },
 "nbformat": 4,
 "nbformat_minor": 5
}
