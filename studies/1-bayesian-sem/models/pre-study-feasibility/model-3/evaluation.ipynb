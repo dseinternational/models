{
 "cells": [
  {
   "cell_type": "markdown",
   "id": "f8ec35a7",
   "metadata": {},
   "source": [
    "# Feasibility Test 3 - Evaluation\n",
    "\n",
    "[Model 3](readme.md) is an adaptation of the RI-CLPM developed for model 2 to evaluate with a second data set to explore how receptive vocabulary, spelling and word reading influence later reading outcomes using repeated test scores at four time points.\n",
    "\n",
    "The model is defined in [model.py](model.py).\n",
    "\n",
    "Here, we evaluate the model using observed variables from data set 2 times 1 through 4.\n"
   ]
  },
  {
   "cell_type": "markdown",
   "id": "6d08954c",
   "metadata": {},
   "source": [
    "## Preliminaries\n"
   ]
  },
  {
   "cell_type": "code",
   "execution_count": 1,
   "id": "cc61b25d",
   "metadata": {},
   "outputs": [
    {
     "name": "stdout",
     "output_type": "stream",
     "text": [
      "Environment:\n",
      "  platform: Windows-11-10.0.26120-SP0\n",
      "  platform_version: 10.0.26120\n",
      "  architecture: ('64bit', 'WindowsPE')\n",
      "  processor: Intel64 Family 6 Model 183 Stepping 1, GenuineIntel\n",
      "  cpu_count: 32\n",
      "  python: 3.13.7 (tags/v3.13.7:bcee1c3, Aug 14 2025, 14:15:11) [MSC v.1944 64 bit (AMD64)]\n",
      "  pymc: 5.25.1\n",
      "  pytensor: 2.31.7\n",
      "  numpy: 2.3.3\n",
      "  arviz: 0.22.0\n"
     ]
    }
   ],
   "source": [
    "import platform\n",
    "import os\n",
    "import sys\n",
    "import arviz as az\n",
    "import matplotlib.pyplot as plt\n",
    "import numpy as np\n",
    "import pandas as pd\n",
    "import pymc as pm\n",
    "import pytensor\n",
    "import pytensor.tensor as pt\n",
    "import model as m\n",
    "from model import ModelConfig, ModelSpecification\n",
    "import xarray as xr\n",
    "\n",
    "pd.options.mode.copy_on_write = True\n",
    "\n",
    "pytensor.config.mode = \"NUMBA\"\n",
    "pytensor.config.print_active_device = True\n",
    "\n",
    "az.style.use(\"arviz-whitegrid\")\n",
    "\n",
    "environment = {\n",
    "    \"platform\": platform.platform(),\n",
    "    \"platform_version\": platform.version(),\n",
    "    \"architecture\": platform.architecture(),\n",
    "    \"processor\": platform.processor(),\n",
    "    \"cpu_count\": os.cpu_count(),\n",
    "    \"python\": sys.version,\n",
    "    \"pymc\": pm.__version__,\n",
    "    \"pytensor\": pytensor.__version__,\n",
    "    \"numpy\": np.__version__,\n",
    "    \"arviz\": az.__version__,\n",
    "}\n",
    "\n",
    "print(\"Environment:\")\n",
    "for key, value in environment.items():\n",
    "    print(f\"  {key}: {value}\")"
   ]
  },
  {
   "cell_type": "markdown",
   "id": "38651d91",
   "metadata": {},
   "source": [
    "### Load data\n"
   ]
  },
  {
   "cell_type": "code",
   "execution_count": 2,
   "id": "a63dc8dc",
   "metadata": {},
   "outputs": [],
   "source": [
    "df = pd.read_csv(\n",
    "    \"../../../../../data/reading-language-memory/rlm-data-5.csv\"\n",
    ").convert_dtypes()\n",
    "df = df[df[\"readgrp\"] == 1]"
   ]
  },
  {
   "cell_type": "markdown",
   "id": "ac763c20",
   "metadata": {},
   "source": [
    "## Evaluate model\n"
   ]
  },
  {
   "cell_type": "markdown",
   "id": "33785b58",
   "metadata": {},
   "source": [
    "### Build model\n"
   ]
  },
  {
   "cell_type": "code",
   "execution_count": 3,
   "id": "074dbffb",
   "metadata": {},
   "outputs": [],
   "source": [
    "spec = ModelSpecification(\n",
    "    age=df[\"age1\"].to_numpy(na_value=np.nan),\n",
    "    gender=df[\"sex\"].to_numpy(na_value=np.nan),    \n",
    "    rv=df[\n",
    "        [\"bpvs1\", \"bpvs2\", \"bpvs3\", \"bpvs4\"]\n",
    "    ].to_numpy(na_value=np.nan),\n",
    "    sp=df[\n",
    "        [\"basspel1\", \"basspel2\", \"basspel3\", \"basspel4\"]\n",
    "    ].to_numpy(na_value=np.nan),\n",
    "    wr=df[\n",
    "        [\"basread1\", \"basread2\", \"basread3\", \"basread4\"]\n",
    "    ].to_numpy(na_value=np.nan),\n",
    ")\n",
    "\n",
    "model = m.build_model(spec)"
   ]
  },
  {
   "cell_type": "markdown",
   "id": "e9ed9d36",
   "metadata": {},
   "source": [
    "### Model graph\n"
   ]
  },
  {
   "cell_type": "code",
   "execution_count": 4,
   "id": "a5221595",
   "metadata": {},
   "outputs": [],
   "source": [
    "# pm.model_to_graphviz(model)"
   ]
  },
  {
   "cell_type": "markdown",
   "id": "7324659e",
   "metadata": {},
   "source": [
    "### Run simulation\n"
   ]
  },
  {
   "cell_type": "code",
   "execution_count": 5,
   "id": "aed4b6ea",
   "metadata": {},
   "outputs": [
    {
     "name": "stderr",
     "output_type": "stream",
     "text": [
      "v:\\dev\\dseinternational\\development-models\\.venv\\Lib\\site-packages\\pytensor\\link\\c\\cmodule.py:2968: UserWarning: PyTensor could not link to a BLAS installation. Operations that might benefit from BLAS will be severely degraded.\n",
      "This usually happens when PyTensor is installed via pip. We recommend it be installed via conda/mamba/pixi instead.\n",
      "Alternatively, you can use an experimental backend such as Numba or JAX that perform their own BLAS optimizations, by setting `pytensor.config.mode == 'NUMBA'` or passing `mode='NUMBA'` when compiling a PyTensor function.\n",
      "For more options and details see https://pytensor.readthedocs.io/en/latest/troubleshooting.html#how-do-i-configure-test-my-blas-library\n",
      "  warnings.warn(\n"
     ]
    },
    {
     "data": {
      "application/vnd.jupyter.widget-view+json": {
       "model_id": "714eeba98a464610b3a466e86f3f7107",
       "version_major": 2,
       "version_minor": 0
      },
      "text/plain": [
       "  0%|          | 0/12000 [00:00<?, ?it/s]"
      ]
     },
     "metadata": {},
     "output_type": "display_data"
    },
    {
     "data": {
      "application/vnd.jupyter.widget-view+json": {
       "model_id": "ed4b8325b7c44df08ec3ca06d1db4281",
       "version_major": 2,
       "version_minor": 0
      },
      "text/plain": [
       "  0%|          | 0/12000 [00:00<?, ?it/s]"
      ]
     },
     "metadata": {},
     "output_type": "display_data"
    },
    {
     "data": {
      "application/vnd.jupyter.widget-view+json": {
       "model_id": "b2ebd854a3f747b7b41f8c4a03c59e89",
       "version_major": 2,
       "version_minor": 0
      },
      "text/plain": [
       "  0%|          | 0/12000 [00:00<?, ?it/s]"
      ]
     },
     "metadata": {},
     "output_type": "display_data"
    },
    {
     "data": {
      "application/vnd.jupyter.widget-view+json": {
       "model_id": "60f69ab7ecbc4ffcb53c8c8cff122223",
       "version_major": 2,
       "version_minor": 0
      },
      "text/plain": [
       "  0%|          | 0/12000 [00:00<?, ?it/s]"
      ]
     },
     "metadata": {},
     "output_type": "display_data"
    },
    {
     "data": {
      "application/vnd.jupyter.widget-view+json": {
       "model_id": "9f5487b8941b4fb29f01d1cc540809cc",
       "version_major": 2,
       "version_minor": 0
      },
      "text/plain": [
       "  0%|          | 0/12000 [00:00<?, ?it/s]"
      ]
     },
     "metadata": {},
     "output_type": "display_data"
    },
    {
     "data": {
      "application/vnd.jupyter.widget-view+json": {
       "model_id": "c7da1df9367a418fb619d82810c1a33d",
       "version_major": 2,
       "version_minor": 0
      },
      "text/plain": [
       "  0%|          | 0/12000 [00:00<?, ?it/s]"
      ]
     },
     "metadata": {},
     "output_type": "display_data"
    },
    {
     "name": "stderr",
     "output_type": "stream",
     "text": [
      "v:\\dev\\dseinternational\\development-models\\.venv\\Lib\\site-packages\\jax\\_src\\interpreters\\mlir.py:1316: UserWarning: Some donated buffers were not usable: float64[6,8000,6], float64[6,8000,23,3], float64[6,8000,23,3,3], float64[6,8000,6], float64[6,8000,23,3], float64[6,8000], float64[6,8000], float64[6,8000,23,4], float64[6,8000].\n",
      "See an explanation at https://docs.jax.dev/en/latest/faq.html#buffer-donation.\n",
      "  warnings.warn(\"Some donated buffers were not usable:\"\n"
     ]
    }
   ],
   "source": [
    "CHAINS = 6\n",
    "CORES = CHAINS\n",
    "RANDOM_SEED = 202509\n",
    "rng = np.random.default_rng(RANDOM_SEED)\n",
    "\n",
    "posterior_keep = [\n",
    "    \"B\",\n",
    "    \"B_autoregressive\",\n",
    "    \"B_crosslag\",\n",
    "    \"B_half_life\",\n",
    "    \"mu\",\n",
    "    \"beta_age\",\n",
    "    \"beta_person\",\n",
    "    \"rho\",\n",
    "    \"alpha_sd\",\n",
    "    \"alpha_corr\",\n",
    "    \"eta_sd\",\n",
    "    \"delta\",\n",
    "    \"p_bar\",\n",
    "    \"items_per_logit\",\n",
    "]\n",
    "\n",
    "with model:\n",
    "    idata = pm.sample(\n",
    "        draws=8000,\n",
    "        tune=4000,\n",
    "        chains=CHAINS,\n",
    "        cores=CORES,\n",
    "        target_accept=0.97,\n",
    "        var_names=posterior_keep,\n",
    "        idata_kwargs={\"log_likelihood\": True},\n",
    "        return_inferencedata=True,\n",
    "        init=\"jitter+adapt_diag\",\n",
    "        nuts_sampler=\"numpyro\",\n",
    "        chain_method=\"vectorized\",\n",
    "        # compile_kwargs=dict(mode=\"NUMBA\"),\n",
    "        random_seed=RANDOM_SEED,\n",
    "    )"
   ]
  },
  {
   "cell_type": "markdown",
   "id": "8e0dbb95",
   "metadata": {},
   "source": [
    "## Diagnostics\n"
   ]
  },
  {
   "cell_type": "code",
   "execution_count": 6,
   "id": "391e86b2",
   "metadata": {},
   "outputs": [
    {
     "data": {
      "text/plain": [
       "array([0.88463849, 0.9063703 , 0.89249603, 0.89055071, 0.87989167,\n",
       "       0.89384942])"
      ]
     },
     "execution_count": 6,
     "metadata": {},
     "output_type": "execute_result"
    }
   ],
   "source": [
    "az.bfmi(idata)"
   ]
  },
  {
   "cell_type": "code",
   "execution_count": 7,
   "id": "96ec64e6",
   "metadata": {},
   "outputs": [
    {
     "data": {
      "text/plain": [
       "<Axes: >"
      ]
     },
     "execution_count": 7,
     "metadata": {},
     "output_type": "execute_result"
    },
    {
     "data": {
      "image/png": "[encoded data removed]",
      "text/plain": [
       "<Figure size 720x480 with 1 Axes>"
      ]
     },
     "metadata": {},
     "output_type": "display_data"
    }
   ],
   "source": [
    "az.plot_energy(idata)"
   ]
  },
  {
   "cell_type": "code",
   "execution_count": 8,
   "id": "68233811",
   "metadata": {},
   "outputs": [
    {
     "name": "stderr",
     "output_type": "stream",
     "text": [
      "C:\\Users\\FrankBuckley\\AppData\\Local\\Temp\\ipykernel_45696\\1443674258.py:8: UserWarning: The effect of Potentials on other parameters is ignored during prior predictive sampling. This is likely to lead to invalid or biased predictive samples.\n",
      "  idata_pp = pm.sample_prior_predictive(\n",
      "Sampling: [alpha_scale, alpha_z, beta_age, beta_person, day_raw, delta, delta_sd, eta_sd, init_scale, kappa_uncon, mu0, mu_step_sd, mu_steps, nu_mu_minus2, raw_B, state_shock, x1_z, y]\n"
     ]
    }
   ],
   "source": [
    "from pytensor import config\n",
    "\n",
    "if config.mode.upper() == \"NUMBA\":\n",
    "    config.mode = \"FAST_COMPILE\"\n",
    "\n",
    "with model:\n",
    "    # Prior predictive (force non-Numba mode)\n",
    "    idata_pp = pm.sample_prior_predictive(\n",
    "        samples=1000,\n",
    "        var_names=[\n",
    "            \"mu\",\n",
    "            \"B\",\n",
    "            \"rho\",\n",
    "            \"kappa\",\n",
    "            \"alpha_sd\",\n",
    "            \"alpha_corr\",\n",
    "            \"eta_sd\",\n",
    "            \"delta\",\n",
    "            \"y\",\n",
    "        ],\n",
    "        compile_kwargs={\n",
    "            \"mode\": \"FAST_COMPILE\"\n",
    "        }\n",
    "    )\n",
    "    idata.extend(idata_pp)"
   ]
  },
  {
   "cell_type": "code",
   "execution_count": 9,
   "id": "549a8db6",
   "metadata": {},
   "outputs": [
    {
     "name": "stdout",
     "output_type": "stream",
     "text": [
      "<xarray.DataArray 'mu' (quantile: 3, construct: 3, time: 4)> Size: 288B\n",
      "array([[[0.17259782, 0.14606427, 0.12584888, 0.10018269],\n",
      "        [0.03647385, 0.03177705, 0.02760828, 0.02265818],\n",
      "        [0.08206754, 0.0692591 , 0.05504889, 0.05190277]],\n",
      "\n",
      "       [[0.32620638, 0.31869154, 0.3199486 , 0.31233291],\n",
      "        [0.080357  , 0.08159641, 0.08168801, 0.07996722],\n",
      "        [0.16280058, 0.16269766, 0.16477484, 0.16293654]],\n",
      "\n",
      "       [[0.52844705, 0.54277685, 0.60133332, 0.63459893],\n",
      "        [0.16758714, 0.19113729, 0.20718256, 0.22866844],\n",
      "        [0.30550423, 0.34606914, 0.37672652, 0.39025016]]])\n",
      "Coordinates:\n",
      "  * construct  (construct) <U11 132B 'Vocab' 'Spelling' 'WordReading'\n",
      "  * time       (time) int64 32B 1 2 3 4\n",
      "  * quantile   (quantile) float64 24B 0.05 0.5 0.95\n"
     ]
    },
    {
     "data": {
      "application/vnd.microsoft.datawrangler.viewer.v0+json": {
       "columns": [
        {
         "name": "('construct', 'time')",
         "rawType": "object",
         "type": "unknown"
        },
        {
         "name": "q05",
         "rawType": "float64",
         "type": "float"
        },
        {
         "name": "q50",
         "rawType": "float64",
         "type": "float"
        },
        {
         "name": "q95",
         "rawType": "float64",
         "type": "float"
        }
       ],
       "ref": "b42d214e-8b8c-4b7f-bb9f-eeadac4ebffe",
       "rows": [
        [
         "('Spelling', np.int64(1))",
         "0.03647385101903564",
         "0.08035699704203045",
         "0.16758713689970076"
        ],
        [
         "('Spelling', np.int64(2))",
         "0.031777046922152254",
         "0.08159640790961206",
         "0.19113729184061384"
        ],
        [
         "('Spelling', np.int64(3))",
         "0.027608277062093903",
         "0.08168800747840622",
         "0.20718255674985678"
        ],
        [
         "('Spelling', np.int64(4))",
         "0.022658181444637975",
         "0.07996721995422315",
         "0.22866844108147333"
        ],
        [
         "('Vocab', np.int64(1))",
         "0.17259781536042718",
         "0.32620638344985936",
         "0.528447048853021"
        ],
        [
         "('Vocab', np.int64(2))",
         "0.14606427305285555",
         "0.3186915372176733",
         "0.5427768543733412"
        ],
        [
         "('Vocab', np.int64(3))",
         "0.12584887784904134",
         "0.3199485969648567",
         "0.601333315110271"
        ],
        [
         "('Vocab', np.int64(4))",
         "0.10018268535503043",
         "0.3123329061290077",
         "0.634598925027227"
        ],
        [
         "('WordReading', np.int64(1))",
         "0.08206754159636187",
         "0.1628005839506082",
         "0.3055042333064338"
        ],
        [
         "('WordReading', np.int64(2))",
         "0.06925910321469901",
         "0.16269766106258432",
         "0.3460691409436601"
        ],
        [
         "('WordReading', np.int64(3))",
         "0.055048893733041115",
         "0.1647748373498164",
         "0.3767265195367268"
        ],
        [
         "('WordReading', np.int64(4))",
         "0.051902773281421836",
         "0.16293653920239043",
         "0.3902501586176585"
        ]
       ],
       "shape": {
        "columns": 3,
        "rows": 12
       }
      },
      "text/html": [
       "<div>\n",
       "<style scoped>\n",
       "    .dataframe tbody tr th:only-of-type {\n",
       "        vertical-align: middle;\n",
       "    }\n",
       "\n",
       "    .dataframe tbody tr th {\n",
       "        vertical-align: top;\n",
       "    }\n",
       "\n",
       "    .dataframe thead th {\n",
       "        text-align: right;\n",
       "    }\n",
       "</style>\n",
       "<table border=\"1\" class=\"dataframe\">\n",
       "  <thead>\n",
       "    <tr style=\"text-align: right;\">\n",
       "      <th></th>\n",
       "      <th>quantile</th>\n",
       "      <th>q05</th>\n",
       "      <th>q50</th>\n",
       "      <th>q95</th>\n",
       "    </tr>\n",
       "    <tr>\n",
       "      <th>construct</th>\n",
       "      <th>time</th>\n",
       "      <th></th>\n",
       "      <th></th>\n",
       "      <th></th>\n",
       "    </tr>\n",
       "  </thead>\n",
       "  <tbody>\n",
       "    <tr>\n",
       "      <th rowspan=\"4\" valign=\"top\">Spelling</th>\n",
       "      <th>1</th>\n",
       "      <td>0.036474</td>\n",
       "      <td>0.080357</td>\n",
       "      <td>0.167587</td>\n",
       "    </tr>\n",
       "    <tr>\n",
       "      <th>2</th>\n",
       "      <td>0.031777</td>\n",
       "      <td>0.081596</td>\n",
       "      <td>0.191137</td>\n",
       "    </tr>\n",
       "    <tr>\n",
       "      <th>3</th>\n",
       "      <td>0.027608</td>\n",
       "      <td>0.081688</td>\n",
       "      <td>0.207183</td>\n",
       "    </tr>\n",
       "    <tr>\n",
       "      <th>4</th>\n",
       "      <td>0.022658</td>\n",
       "      <td>0.079967</td>\n",
       "      <td>0.228668</td>\n",
       "    </tr>\n",
       "    <tr>\n",
       "      <th rowspan=\"4\" valign=\"top\">Vocab</th>\n",
       "      <th>1</th>\n",
       "      <td>0.172598</td>\n",
       "      <td>0.326206</td>\n",
       "      <td>0.528447</td>\n",
       "    </tr>\n",
       "    <tr>\n",
       "      <th>2</th>\n",
       "      <td>0.146064</td>\n",
       "      <td>0.318692</td>\n",
       "      <td>0.542777</td>\n",
       "    </tr>\n",
       "    <tr>\n",
       "      <th>3</th>\n",
       "      <td>0.125849</td>\n",
       "      <td>0.319949</td>\n",
       "      <td>0.601333</td>\n",
       "    </tr>\n",
       "    <tr>\n",
       "      <th>4</th>\n",
       "      <td>0.100183</td>\n",
       "      <td>0.312333</td>\n",
       "      <td>0.634599</td>\n",
       "    </tr>\n",
       "    <tr>\n",
       "      <th rowspan=\"4\" valign=\"top\">WordReading</th>\n",
       "      <th>1</th>\n",
       "      <td>0.082068</td>\n",
       "      <td>0.162801</td>\n",
       "      <td>0.305504</td>\n",
       "    </tr>\n",
       "    <tr>\n",
       "      <th>2</th>\n",
       "      <td>0.069259</td>\n",
       "      <td>0.162698</td>\n",
       "      <td>0.346069</td>\n",
       "    </tr>\n",
       "    <tr>\n",
       "      <th>3</th>\n",
       "      <td>0.055049</td>\n",
       "      <td>0.164775</td>\n",
       "      <td>0.376727</td>\n",
       "    </tr>\n",
       "    <tr>\n",
       "      <th>4</th>\n",
       "      <td>0.051903</td>\n",
       "      <td>0.162937</td>\n",
       "      <td>0.390250</td>\n",
       "    </tr>\n",
       "  </tbody>\n",
       "</table>\n",
       "</div>"
      ],
      "text/plain": [
       "quantile               q05       q50       q95\n",
       "construct   time                              \n",
       "Spelling    1     0.036474  0.080357  0.167587\n",
       "            2     0.031777  0.081596  0.191137\n",
       "            3     0.027608  0.081688  0.207183\n",
       "            4     0.022658  0.079967  0.228668\n",
       "Vocab       1     0.172598  0.326206  0.528447\n",
       "            2     0.146064  0.318692  0.542777\n",
       "            3     0.125849  0.319949  0.601333\n",
       "            4     0.100183  0.312333  0.634599\n",
       "WordReading 1     0.082068  0.162801  0.305504\n",
       "            2     0.069259  0.162698  0.346069\n",
       "            3     0.055049  0.164775  0.376727\n",
       "            4     0.051903  0.162937  0.390250"
      ]
     },
     "execution_count": 9,
     "metadata": {},
     "output_type": "execute_result"
    }
   ],
   "source": [
    "\n",
    "# 1) Get mu from the *prior* group (not prior_predictive)\n",
    "mu = idata_pp.prior[\"mu\"]                   # dims: (\"chain\",\"draw\",\"construct\",\"time\")\n",
    "\n",
    "# 2) Collapse chains -> one sample axis\n",
    "mu_s = mu.stack(sample=(\"chain\",\"draw\"))    # dims: (\"sample\",\"construct\",\"time\")\n",
    "\n",
    "# 3) Convert to probabilities\n",
    "p = 1 / (1 + np.exp(-mu_s))                 # same dims\n",
    "\n",
    "# 4) Quantiles over samples -> dims (\"quantile\",\"construct\",\"time\")\n",
    "q = p.quantile(q=[0.05, 0.50, 0.95], dim=\"sample\")\n",
    "\n",
    "# 5a) Stay in xarray (recommended)\n",
    "print(q)\n",
    "\n",
    "# 5b) Or make a tidy pandas table with MultiIndex rows and quantiles as columns\n",
    "df_p = (\n",
    "    q.to_dataframe(name=\"p\")                # index: quantile, construct, time\n",
    "      .reset_index()\n",
    "      .pivot_table(index=[\"construct\",\"time\"], columns=\"quantile\", values=\"p\")\n",
    "      .rename(columns={0.05:\"q05\", 0.50:\"q50\", 0.95:\"q95\"})\n",
    "      .sort_index()\n",
    ")\n",
    "df_p\n"
   ]
  },
  {
   "cell_type": "markdown",
   "id": "720c2a0e",
   "metadata": {},
   "source": [
    "## Summaries\n"
   ]
  },
  {
   "cell_type": "code",
   "execution_count": 10,
   "id": "de5e6d7d",
   "metadata": {},
   "outputs": [
    {
     "name": "stderr",
     "output_type": "stream",
     "text": [
      "v:\\dev\\dseinternational\\development-models\\.venv\\Lib\\site-packages\\arviz\\stats\\diagnostics.py:596: RuntimeWarning: invalid value encountered in scalar divide\n",
      "  (between_chain_variance / within_chain_variance + num_samples - 1) / (num_samples)\n",
      "v:\\dev\\dseinternational\\development-models\\.venv\\Lib\\site-packages\\arviz\\stats\\diagnostics.py:991: RuntimeWarning: invalid value encountered in scalar divide\n",
      "  varsd = varvar / evar / 4\n",
      "v:\\dev\\dseinternational\\development-models\\.venv\\Lib\\site-packages\\arviz\\stats\\diagnostics.py:596: RuntimeWarning: invalid value encountered in scalar divide\n",
      "  (between_chain_variance / within_chain_variance + num_samples - 1) / (num_samples)\n",
      "v:\\dev\\dseinternational\\development-models\\.venv\\Lib\\site-packages\\arviz\\stats\\diagnostics.py:991: RuntimeWarning: invalid value encountered in scalar divide\n",
      "  varsd = varvar / evar / 4\n",
      "v:\\dev\\dseinternational\\development-models\\.venv\\Lib\\site-packages\\arviz\\stats\\diagnostics.py:596: RuntimeWarning: invalid value encountered in scalar divide\n",
      "  (between_chain_variance / within_chain_variance + num_samples - 1) / (num_samples)\n",
      "v:\\dev\\dseinternational\\development-models\\.venv\\Lib\\site-packages\\arviz\\stats\\diagnostics.py:991: RuntimeWarning: invalid value encountered in scalar divide\n",
      "  varsd = varvar / evar / 4\n",
      "v:\\dev\\dseinternational\\development-models\\.venv\\Lib\\site-packages\\arviz\\stats\\diagnostics.py:596: RuntimeWarning: invalid value encountered in scalar divide\n",
      "  (between_chain_variance / within_chain_variance + num_samples - 1) / (num_samples)\n",
      "v:\\dev\\dseinternational\\development-models\\.venv\\Lib\\site-packages\\arviz\\stats\\diagnostics.py:991: RuntimeWarning: invalid value encountered in scalar divide\n",
      "  varsd = varvar / evar / 4\n"
     ]
    },
    {
     "data": {
      "application/vnd.microsoft.datawrangler.viewer.v0+json": {
       "columns": [
        {
         "name": "index",
         "rawType": "object",
         "type": "string"
        },
        {
         "name": "mean",
         "rawType": "float64",
         "type": "float"
        },
        {
         "name": "sd",
         "rawType": "float64",
         "type": "float"
        },
        {
         "name": "hdi_2.5%",
         "rawType": "float64",
         "type": "float"
        },
        {
         "name": "hdi_97.5%",
         "rawType": "float64",
         "type": "float"
        },
        {
         "name": "mcse_mean",
         "rawType": "float64",
         "type": "float"
        },
        {
         "name": "mcse_sd",
         "rawType": "float64",
         "type": "float"
        },
        {
         "name": "ess_bulk",
         "rawType": "float64",
         "type": "float"
        },
        {
         "name": "ess_tail",
         "rawType": "float64",
         "type": "float"
        },
        {
         "name": "r_hat",
         "rawType": "float64",
         "type": "float"
        }
       ],
       "ref": "ea84b07e-52bf-458b-861b-0bdc3b0601b6",
       "rows": [
        [
         "B[Vocab, Vocab]",
         "0.119",
         "0.187",
         "-0.248",
         "0.473",
         "0.001",
         "0.001",
         "23078.0",
         "18909.0",
         "1.0"
        ],
        [
         "B[Vocab, Spelling]",
         "-0.003",
         "0.144",
         "-0.293",
         "0.263",
         "0.001",
         "0.001",
         "14316.0",
         "3479.0",
         "1.0"
        ],
        [
         "B[Vocab, WordReading]",
         "0.011",
         "0.144",
         "-0.269",
         "0.288",
         "0.001",
         "0.001",
         "13153.0",
         "12258.0",
         "1.0"
        ],
        [
         "B[Spelling, Vocab]",
         "-0.002",
         "0.144",
         "-0.287",
         "0.271",
         "0.001",
         "0.001",
         "22438.0",
         "24067.0",
         "1.0"
        ],
        [
         "B[Spelling, Spelling]",
         "0.111",
         "0.186",
         "-0.251",
         "0.469",
         "0.001",
         "0.001",
         "31026.0",
         "19321.0",
         "1.0"
        ],
        [
         "B[Spelling, WordReading]",
         "0.003",
         "0.144",
         "-0.271",
         "0.29",
         "0.001",
         "0.001",
         "37274.0",
         "27765.0",
         "1.0"
        ],
        [
         "B[WordReading, Vocab]",
         "-0.001",
         "0.142",
         "-0.274",
         "0.279",
         "0.001",
         "0.001",
         "48388.0",
         "31672.0",
         "1.0"
        ],
        [
         "B[WordReading, Spelling]",
         "0.009",
         "0.141",
         "-0.266",
         "0.278",
         "0.001",
         "0.001",
         "22961.0",
         "29828.0",
         "1.0"
        ],
        [
         "B[WordReading, WordReading]",
         "0.156",
         "0.187",
         "-0.213",
         "0.507",
         "0.001",
         "0.001",
         "23251.0",
         "31629.0",
         "1.0"
        ],
        [
         "B_autoregressive[Vocab]",
         "0.119",
         "0.187",
         "-0.248",
         "0.473",
         "0.001",
         "0.001",
         "23078.0",
         "18909.0",
         "1.0"
        ],
        [
         "B_autoregressive[Spelling]",
         "0.111",
         "0.186",
         "-0.251",
         "0.469",
         "0.001",
         "0.001",
         "31026.0",
         "19321.0",
         "1.0"
        ],
        [
         "B_autoregressive[WordReading]",
         "0.156",
         "0.187",
         "-0.213",
         "0.507",
         "0.001",
         "0.001",
         "23251.0",
         "31629.0",
         "1.0"
        ],
        [
         "B_crosslag[Vocab, Vocab]",
         "0.0",
         "0.0",
         "0.0",
         "0.0",
         "0.0",
         null,
         "48000.0",
         "48000.0",
         null
        ],
        [
         "B_crosslag[Vocab, Spelling]",
         "-0.003",
         "0.144",
         "-0.293",
         "0.263",
         "0.001",
         "0.001",
         "14316.0",
         "3479.0",
         "1.0"
        ],
        [
         "B_crosslag[Vocab, WordReading]",
         "0.011",
         "0.144",
         "-0.269",
         "0.288",
         "0.001",
         "0.001",
         "13153.0",
         "12258.0",
         "1.0"
        ],
        [
         "B_crosslag[Spelling, Vocab]",
         "-0.002",
         "0.144",
         "-0.287",
         "0.271",
         "0.001",
         "0.001",
         "22438.0",
         "24067.0",
         "1.0"
        ],
        [
         "B_crosslag[Spelling, Spelling]",
         "0.0",
         "0.0",
         "-0.0",
         "0.0",
         "0.0",
         null,
         "48000.0",
         "48000.0",
         null
        ],
        [
         "B_crosslag[Spelling, WordReading]",
         "0.003",
         "0.144",
         "-0.271",
         "0.29",
         "0.001",
         "0.001",
         "37274.0",
         "27765.0",
         "1.0"
        ],
        [
         "B_crosslag[WordReading, Vocab]",
         "-0.001",
         "0.142",
         "-0.274",
         "0.279",
         "0.001",
         "0.001",
         "48388.0",
         "31672.0",
         "1.0"
        ],
        [
         "B_crosslag[WordReading, Spelling]",
         "0.009",
         "0.141",
         "-0.266",
         "0.278",
         "0.001",
         "0.001",
         "22961.0",
         "29828.0",
         "1.0"
        ],
        [
         "B_crosslag[WordReading, WordReading]",
         "0.0",
         "0.0",
         "0.0",
         "0.0",
         "0.0",
         null,
         "48000.0",
         "48000.0",
         null
        ],
        [
         "B_half_life[Vocab]",
         "0.418",
         "0.204",
         "0.106",
         "0.823",
         "0.001",
         "0.002",
         "18027.0",
         "20001.0",
         "1.0"
        ],
        [
         "B_half_life[Spelling]",
         "0.411",
         "0.195",
         "0.102",
         "0.796",
         "0.001",
         "0.001",
         "23202.0",
         "19338.0",
         "1.0"
        ],
        [
         "B_half_life[WordReading]",
         "0.451",
         "0.224",
         "0.113",
         "0.901",
         "0.002",
         "0.001",
         "18298.0",
         "20626.0",
         "1.0"
        ],
        [
         "beta_age[Vocab]",
         "0.22",
         "0.077",
         "0.072",
         "0.38",
         "0.001",
         "0.001",
         "13360.0",
         "4971.0",
         "1.0"
        ],
        [
         "beta_age[Spelling]",
         "0.611",
         "0.2",
         "0.225",
         "1.002",
         "0.002",
         "0.001",
         "12555.0",
         "10909.0",
         "1.0"
        ],
        [
         "beta_age[WordReading]",
         "0.542",
         "0.177",
         "0.191",
         "0.891",
         "0.001",
         "0.001",
         "15356.0",
         "21823.0",
         "1.0"
        ],
        [
         "beta_person[gender, Vocab]",
         "-0.045",
         "0.145",
         "-0.332",
         "0.24",
         "0.001",
         "0.001",
         "12720.0",
         "28958.0",
         "1.0"
        ],
        [
         "beta_person[gender, Spelling]",
         "0.235",
         "0.306",
         "-0.363",
         "0.842",
         "0.002",
         "0.002",
         "15311.0",
         "16290.0",
         "1.0"
        ],
        [
         "beta_person[gender, WordReading]",
         "0.113",
         "0.284",
         "-0.452",
         "0.666",
         "0.002",
         "0.002",
         "13166.0",
         "13845.0",
         "1.0"
        ],
        [
         "alpha_sd[Vocab]",
         "0.265",
         "0.086",
         "0.089",
         "0.435",
         "0.001",
         "0.001",
         "8767.0",
         "6842.0",
         "1.0"
        ],
        [
         "alpha_sd[Spelling]",
         "0.874",
         "0.124",
         "0.639",
         "1.118",
         "0.001",
         "0.001",
         "21336.0",
         "25664.0",
         "1.0"
        ],
        [
         "alpha_sd[WordReading]",
         "0.876",
         "0.1",
         "0.69",
         "1.075",
         "0.001",
         "0.001",
         "15659.0",
         "17972.0",
         "1.0"
        ],
        [
         "alpha_corr[Vocab, Vocab]",
         "1.0",
         "0.0",
         "1.0",
         "1.0",
         "0.0",
         null,
         "48000.0",
         "48000.0",
         null
        ],
        [
         "alpha_corr[Vocab, Spelling]",
         "0.037",
         "0.219",
         "-0.394",
         "0.456",
         "0.003",
         "0.002",
         "6185.0",
         "4684.0",
         "1.0"
        ],
        [
         "alpha_corr[Vocab, WordReading]",
         "0.137",
         "0.205",
         "-0.249",
         "0.546",
         "0.002",
         "0.002",
         "6753.0",
         "6273.0",
         "1.0"
        ],
        [
         "alpha_corr[Spelling, Vocab]",
         "0.037",
         "0.219",
         "-0.394",
         "0.456",
         "0.003",
         "0.002",
         "6185.0",
         "4684.0",
         "1.0"
        ],
        [
         "alpha_corr[Spelling, Spelling]",
         "1.0",
         "0.0",
         "1.0",
         "1.0",
         "0.0",
         "0.0",
         "40291.0",
         "44841.0",
         "1.0"
        ],
        [
         "alpha_corr[Spelling, WordReading]",
         "0.751",
         "0.106",
         "0.545",
         "0.935",
         "0.001",
         "0.001",
         "11366.0",
         "21387.0",
         "1.0"
        ],
        [
         "alpha_corr[WordReading, Vocab]",
         "0.137",
         "0.205",
         "-0.249",
         "0.546",
         "0.002",
         "0.002",
         "6753.0",
         "6273.0",
         "1.0"
        ],
        [
         "alpha_corr[WordReading, Spelling]",
         "0.751",
         "0.106",
         "0.545",
         "0.935",
         "0.001",
         "0.001",
         "11366.0",
         "21387.0",
         "1.0"
        ],
        [
         "alpha_corr[WordReading, WordReading]",
         "1.0",
         "0.0",
         "1.0",
         "1.0",
         "0.0",
         "0.0",
         "43179.0",
         "44387.0",
         "1.0"
        ],
        [
         "eta_sd[Vocab]",
         "0.069",
         "0.053",
         "0.0",
         "0.171",
         "0.0",
         "0.0",
         "11875.0",
         "19634.0",
         "1.0"
        ],
        [
         "eta_sd[Spelling]",
         "0.091",
         "0.07",
         "0.0",
         "0.225",
         "0.001",
         "0.0",
         "15304.0",
         "19284.0",
         "1.0"
        ],
        [
         "eta_sd[WordReading]",
         "0.06",
         "0.047",
         "0.0",
         "0.151",
         "0.0",
         "0.001",
         "11505.0",
         "6940.0",
         "1.0"
        ],
        [
         "mu[Vocab, 1]",
         "-0.76",
         "0.11",
         "-0.98",
         "-0.546",
         "0.001",
         "0.001",
         "23707.0",
         "25968.0",
         "1.0"
        ],
        [
         "mu[Vocab, 2]",
         "-0.633",
         "0.106",
         "-0.846",
         "-0.428",
         "0.001",
         "0.0",
         "21531.0",
         "34130.0",
         "1.0"
        ],
        [
         "mu[Vocab, 3]",
         "-0.436",
         "0.104",
         "-0.645",
         "-0.233",
         "0.001",
         "0.0",
         "23566.0",
         "28660.0",
         "1.0"
        ],
        [
         "mu[Vocab, 4]",
         "-0.452",
         "0.112",
         "-0.676",
         "-0.234",
         "0.001",
         "0.001",
         "32156.0",
         "27145.0",
         "1.0"
        ],
        [
         "mu[Spelling, 1]",
         "-2.905",
         "0.236",
         "-3.368",
         "-2.445",
         "0.003",
         "0.002",
         "7992.0",
         "2360.0",
         "1.0"
        ]
       ],
       "shape": {
        "columns": 9,
        "rows": 84
       }
      },
      "text/html": [
       "<div>\n",
       "<style scoped>\n",
       "    .dataframe tbody tr th:only-of-type {\n",
       "        vertical-align: middle;\n",
       "    }\n",
       "\n",
       "    .dataframe tbody tr th {\n",
       "        vertical-align: top;\n",
       "    }\n",
       "\n",
       "    .dataframe thead th {\n",
       "        text-align: right;\n",
       "    }\n",
       "</style>\n",
       "<table border=\"1\" class=\"dataframe\">\n",
       "  <thead>\n",
       "    <tr style=\"text-align: right;\">\n",
       "      <th></th>\n",
       "      <th>mean</th>\n",
       "      <th>sd</th>\n",
       "      <th>hdi_2.5%</th>\n",
       "      <th>hdi_97.5%</th>\n",
       "      <th>mcse_mean</th>\n",
       "      <th>mcse_sd</th>\n",
       "      <th>ess_bulk</th>\n",
       "      <th>ess_tail</th>\n",
       "      <th>r_hat</th>\n",
       "    </tr>\n",
       "  </thead>\n",
       "  <tbody>\n",
       "    <tr>\n",
       "      <th>B[Vocab, Vocab]</th>\n",
       "      <td>0.119</td>\n",
       "      <td>0.187</td>\n",
       "      <td>-0.248</td>\n",
       "      <td>0.473</td>\n",
       "      <td>0.001</td>\n",
       "      <td>0.001</td>\n",
       "      <td>23078.0</td>\n",
       "      <td>18909.0</td>\n",
       "      <td>1.0</td>\n",
       "    </tr>\n",
       "    <tr>\n",
       "      <th>B[Vocab, Spelling]</th>\n",
       "      <td>-0.003</td>\n",
       "      <td>0.144</td>\n",
       "      <td>-0.293</td>\n",
       "      <td>0.263</td>\n",
       "      <td>0.001</td>\n",
       "      <td>0.001</td>\n",
       "      <td>14316.0</td>\n",
       "      <td>3479.0</td>\n",
       "      <td>1.0</td>\n",
       "    </tr>\n",
       "    <tr>\n",
       "      <th>B[Vocab, WordReading]</th>\n",
       "      <td>0.011</td>\n",
       "      <td>0.144</td>\n",
       "      <td>-0.269</td>\n",
       "      <td>0.288</td>\n",
       "      <td>0.001</td>\n",
       "      <td>0.001</td>\n",
       "      <td>13153.0</td>\n",
       "      <td>12258.0</td>\n",
       "      <td>1.0</td>\n",
       "    </tr>\n",
       "    <tr>\n",
       "      <th>B[Spelling, Vocab]</th>\n",
       "      <td>-0.002</td>\n",
       "      <td>0.144</td>\n",
       "      <td>-0.287</td>\n",
       "      <td>0.271</td>\n",
       "      <td>0.001</td>\n",
       "      <td>0.001</td>\n",
       "      <td>22438.0</td>\n",
       "      <td>24067.0</td>\n",
       "      <td>1.0</td>\n",
       "    </tr>\n",
       "    <tr>\n",
       "      <th>B[Spelling, Spelling]</th>\n",
       "      <td>0.111</td>\n",
       "      <td>0.186</td>\n",
       "      <td>-0.251</td>\n",
       "      <td>0.469</td>\n",
       "      <td>0.001</td>\n",
       "      <td>0.001</td>\n",
       "      <td>31026.0</td>\n",
       "      <td>19321.0</td>\n",
       "      <td>1.0</td>\n",
       "    </tr>\n",
       "    <tr>\n",
       "      <th>...</th>\n",
       "      <td>...</td>\n",
       "      <td>...</td>\n",
       "      <td>...</td>\n",
       "      <td>...</td>\n",
       "      <td>...</td>\n",
       "      <td>...</td>\n",
       "      <td>...</td>\n",
       "      <td>...</td>\n",
       "      <td>...</td>\n",
       "    </tr>\n",
       "    <tr>\n",
       "      <th>items_per_logit[WordReading, 3]</th>\n",
       "      <td>17.387</td>\n",
       "      <td>1.857</td>\n",
       "      <td>13.791</td>\n",
       "      <td>21.061</td>\n",
       "      <td>0.015</td>\n",
       "      <td>0.009</td>\n",
       "      <td>15428.0</td>\n",
       "      <td>25191.0</td>\n",
       "      <td>1.0</td>\n",
       "    </tr>\n",
       "    <tr>\n",
       "      <th>items_per_logit[WordReading, 4]</th>\n",
       "      <td>22.204</td>\n",
       "      <td>1.604</td>\n",
       "      <td>19.087</td>\n",
       "      <td>25.283</td>\n",
       "      <td>0.014</td>\n",
       "      <td>0.009</td>\n",
       "      <td>13604.0</td>\n",
       "      <td>12495.0</td>\n",
       "      <td>1.0</td>\n",
       "    </tr>\n",
       "    <tr>\n",
       "      <th>delta[Vocab]</th>\n",
       "      <td>0.030</td>\n",
       "      <td>0.031</td>\n",
       "      <td>0.000</td>\n",
       "      <td>0.095</td>\n",
       "      <td>0.000</td>\n",
       "      <td>0.000</td>\n",
       "      <td>15097.0</td>\n",
       "      <td>17924.0</td>\n",
       "      <td>1.0</td>\n",
       "    </tr>\n",
       "    <tr>\n",
       "      <th>delta[Spelling]</th>\n",
       "      <td>0.039</td>\n",
       "      <td>0.044</td>\n",
       "      <td>0.000</td>\n",
       "      <td>0.130</td>\n",
       "      <td>0.000</td>\n",
       "      <td>0.000</td>\n",
       "      <td>15693.0</td>\n",
       "      <td>12474.0</td>\n",
       "      <td>1.0</td>\n",
       "    </tr>\n",
       "    <tr>\n",
       "      <th>delta[WordReading]</th>\n",
       "      <td>0.030</td>\n",
       "      <td>0.031</td>\n",
       "      <td>0.000</td>\n",
       "      <td>0.093</td>\n",
       "      <td>0.000</td>\n",
       "      <td>0.000</td>\n",
       "      <td>14242.0</td>\n",
       "      <td>17710.0</td>\n",
       "      <td>1.0</td>\n",
       "    </tr>\n",
       "  </tbody>\n",
       "</table>\n",
       "<p>84 rows × 9 columns</p>\n",
       "</div>"
      ],
      "text/plain": [
       "                                   mean     sd  hdi_2.5%  hdi_97.5%  \\\n",
       "B[Vocab, Vocab]                   0.119  0.187    -0.248      0.473   \n",
       "B[Vocab, Spelling]               -0.003  0.144    -0.293      0.263   \n",
       "B[Vocab, WordReading]             0.011  0.144    -0.269      0.288   \n",
       "B[Spelling, Vocab]               -0.002  0.144    -0.287      0.271   \n",
       "B[Spelling, Spelling]             0.111  0.186    -0.251      0.469   \n",
       "...                                 ...    ...       ...        ...   \n",
       "items_per_logit[WordReading, 3]  17.387  1.857    13.791     21.061   \n",
       "items_per_logit[WordReading, 4]  22.204  1.604    19.087     25.283   \n",
       "delta[Vocab]                      0.030  0.031     0.000      0.095   \n",
       "delta[Spelling]                   0.039  0.044     0.000      0.130   \n",
       "delta[WordReading]                0.030  0.031     0.000      0.093   \n",
       "\n",
       "                                 mcse_mean  mcse_sd  ess_bulk  ess_tail  r_hat  \n",
       "B[Vocab, Vocab]                      0.001    0.001   23078.0   18909.0    1.0  \n",
       "B[Vocab, Spelling]                   0.001    0.001   14316.0    3479.0    1.0  \n",
       "B[Vocab, WordReading]                0.001    0.001   13153.0   12258.0    1.0  \n",
       "B[Spelling, Vocab]                   0.001    0.001   22438.0   24067.0    1.0  \n",
       "B[Spelling, Spelling]                0.001    0.001   31026.0   19321.0    1.0  \n",
       "...                                    ...      ...       ...       ...    ...  \n",
       "items_per_logit[WordReading, 3]      0.015    0.009   15428.0   25191.0    1.0  \n",
       "items_per_logit[WordReading, 4]      0.014    0.009   13604.0   12495.0    1.0  \n",
       "delta[Vocab]                         0.000    0.000   15097.0   17924.0    1.0  \n",
       "delta[Spelling]                      0.000    0.000   15693.0   12474.0    1.0  \n",
       "delta[WordReading]                   0.000    0.000   14242.0   17710.0    1.0  \n",
       "\n",
       "[84 rows x 9 columns]"
      ]
     },
     "execution_count": 10,
     "metadata": {},
     "output_type": "execute_result"
    }
   ],
   "source": [
    "vars_to_report = [\n",
    "    \"B\",\n",
    "    \"B_autoregressive\",\n",
    "    \"B_crosslag\",\n",
    "    \"B_half_life\",\n",
    "    \"beta_age\",\n",
    "    \"beta_person\",\n",
    "    \"alpha_sd\",\n",
    "    \"alpha_corr\",\n",
    "    \"eta_sd\",\n",
    "    \"mu\",\n",
    "    \"p_bar\",\n",
    "    \"items_per_logit\",\n",
    "    \"delta\",\n",
    "]\n",
    "\n",
    "summary = az.summary(idata, var_names=vars_to_report, hdi_prob=0.95)\n",
    "summary.to_csv(\"summary.csv\")\n",
    "summary"
   ]
  }
 ],
 "metadata": {
  "kernelspec": {
   "display_name": ".venv",
   "language": "python",
   "name": "python3"
  },
  "language_info": {
   "codemirror_mode": {
    "name": "ipython",
    "version": 3
   },
   "file_extension": ".py",
   "mimetype": "text/x-python",
   "name": "python",
   "nbconvert_exporter": "python",
   "pygments_lexer": "ipython3",
   "version": "3.13.7"
  }
 },
 "nbformat": 4,
 "nbformat_minor": 5
}
