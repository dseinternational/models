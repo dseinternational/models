{
 "cells": [
  {
   "cell_type": "markdown",
   "id": "f8ec35a7",
   "metadata": {},
   "source": [
    "# Feasibility Test 2 - Evaluation\n",
    "\n",
    "[Model 2](readme.md) is a Random Intercept Cross-Lagged Panel Model (RI-CLPM) designed to examine how three skills – vocabulary, letter sound knowledge, and word reading – develop over time and how they influence each other using repeated test scores at four time points.\n",
    "\n",
    "The model is defined in [model.py](model.py).\n",
    "\n",
    "Here, we test the model using observed variables from data set 1 times 1 through 4."
   ]
  },
  {
   "cell_type": "markdown",
   "id": "6d08954c",
   "metadata": {},
   "source": [
    "## Preliminaries\n"
   ]
  },
  {
   "cell_type": "code",
   "execution_count": 1,
   "id": "cc61b25d",
   "metadata": {},
   "outputs": [
    {
     "name": "stdout",
     "output_type": "stream",
     "text": [
      "Environment:\n",
      "  platform: Windows-11-10.0.26120-SP0\n",
      "  platform_version: 10.0.26120\n",
      "  architecture: ('64bit', 'WindowsPE')\n",
      "  processor: Intel64 Family 6 Model 183 Stepping 1, GenuineIntel\n",
      "  cpu_count: 32\n",
      "  python: 3.13.7 (tags/v3.13.7:bcee1c3, Aug 14 2025, 14:15:11) [MSC v.1944 64 bit (AMD64)]\n",
      "  pymc: 5.25.1\n",
      "  pytensor: 2.31.7\n",
      "  numpy: 2.3.3\n",
      "  arviz: 0.22.0\n"
     ]
    }
   ],
   "source": [
    "import platform\n",
    "import os\n",
    "import sys\n",
    "import arviz as az\n",
    "import matplotlib.pyplot as plt\n",
    "import numpy as np\n",
    "import pandas as pd\n",
    "import pymc as pm\n",
    "import pytensor\n",
    "import pytensor.tensor as pt\n",
    "import model as m\n",
    "from model import ModelConfig, ModelSpecification\n",
    "import xarray as xr\n",
    "\n",
    "pd.options.mode.copy_on_write = True\n",
    "\n",
    "pytensor.config.mode = \"NUMBA\"\n",
    "pytensor.config.print_active_device = True\n",
    "\n",
    "az.style.use(\"arviz-whitegrid\")\n",
    "\n",
    "environment = {\n",
    "    \"platform\": platform.platform(),\n",
    "    \"platform_version\": platform.version(),\n",
    "    \"architecture\": platform.architecture(),\n",
    "    \"processor\": platform.processor(),\n",
    "    \"cpu_count\": os.cpu_count(),\n",
    "    \"python\": sys.version,\n",
    "    \"pymc\": pm.__version__,\n",
    "    \"pytensor\": pytensor.__version__,\n",
    "    \"numpy\": np.__version__,\n",
    "    \"arviz\": az.__version__,\n",
    "}\n",
    "\n",
    "print(\"Environment:\")\n",
    "for key, value in environment.items():\n",
    "    print(f\"  {key}: {value}\")"
   ]
  },
  {
   "cell_type": "markdown",
   "id": "38651d91",
   "metadata": {},
   "source": [
    "### Load data\n"
   ]
  },
  {
   "cell_type": "code",
   "execution_count": 2,
   "id": "a63dc8dc",
   "metadata": {},
   "outputs": [],
   "source": [
    "df = pd.read_csv(\n",
    "    \"../../../../../data/reading-language-intervention-trial/rli-trial-data.csv\"\n",
    ").convert_dtypes()\n",
    "df = df[df[\"included\"] == 1]"
   ]
  },
  {
   "cell_type": "markdown",
   "id": "ac763c20",
   "metadata": {},
   "source": [
    "## Evaluate model\n"
   ]
  },
  {
   "cell_type": "markdown",
   "id": "33785b58",
   "metadata": {},
   "source": [
    "### Build model\n"
   ]
  },
  {
   "cell_type": "code",
   "execution_count": 3,
   "id": "074dbffb",
   "metadata": {},
   "outputs": [],
   "source": [
    "spec = ModelSpecification(\n",
    "    age=df[\"age_t1\"].to_numpy(na_value=np.nan),\n",
    "    gender=df[\"gender\"].to_numpy(na_value=np.nan),\n",
    "    area=df[\"area\"].to_numpy(na_value=np.nan),\n",
    "    rv=df[\n",
    "        [\"recep_vocab_t1\", \"recep_vocab_t2\", \"recep_vocab_t3\", \"recep_vocab_t4\"]\n",
    "    ].to_numpy(na_value=np.nan),\n",
    "    ls=df[\n",
    "        [\"letter_sound_t1\", \"letter_sound_t2\", \"letter_sound_t3\", \"letter_sound_t4\"]\n",
    "    ].to_numpy(na_value=np.nan),\n",
    "    wr=df[\n",
    "        [\"word_reading_t1\", \"word_reading_t2\", \"word_reading_t3\", \"word_reading_t4\"]\n",
    "    ].to_numpy(na_value=np.nan),\n",
    ")\n",
    "\n",
    "model = m.build_model(spec)"
   ]
  },
  {
   "cell_type": "markdown",
   "id": "e9ed9d36",
   "metadata": {},
   "source": [
    "### Model graph\n"
   ]
  },
  {
   "cell_type": "code",
   "execution_count": 4,
   "id": "a5221595",
   "metadata": {},
   "outputs": [],
   "source": [
    "# pm.model_to_graphviz(model)"
   ]
  },
  {
   "cell_type": "markdown",
   "id": "7324659e",
   "metadata": {},
   "source": [
    "### Run simulation\n"
   ]
  },
  {
   "cell_type": "code",
   "execution_count": 5,
   "id": "aed4b6ea",
   "metadata": {},
   "outputs": [
    {
     "name": "stderr",
     "output_type": "stream",
     "text": [
      "v:\\dev\\dseinternational\\development-models\\.venv\\Lib\\site-packages\\pytensor\\link\\c\\cmodule.py:2968: UserWarning: PyTensor could not link to a BLAS installation. Operations that might benefit from BLAS will be severely degraded.\n",
      "This usually happens when PyTensor is installed via pip. We recommend it be installed via conda/mamba/pixi instead.\n",
      "Alternatively, you can use an experimental backend such as Numba or JAX that perform their own BLAS optimizations, by setting `pytensor.config.mode == 'NUMBA'` or passing `mode='NUMBA'` when compiling a PyTensor function.\n",
      "For more options and details see https://pytensor.readthedocs.io/en/latest/troubleshooting.html#how-do-i-configure-test-my-blas-library\n",
      "  warnings.warn(\n"
     ]
    },
    {
     "data": {
      "application/vnd.jupyter.widget-view+json": {
       "model_id": "438bad50c95a4a77bc0b9ab1e57870dc",
       "version_major": 2,
       "version_minor": 0
      },
      "text/plain": [
       "  0%|          | 0/12000 [00:00<?, ?it/s]"
      ]
     },
     "metadata": {},
     "output_type": "display_data"
    },
    {
     "data": {
      "application/vnd.jupyter.widget-view+json": {
       "model_id": "c5154f5d8bbe42d6afa4b09f7251c2d5",
       "version_major": 2,
       "version_minor": 0
      },
      "text/plain": [
       "  0%|          | 0/12000 [00:00<?, ?it/s]"
      ]
     },
     "metadata": {},
     "output_type": "display_data"
    },
    {
     "data": {
      "application/vnd.jupyter.widget-view+json": {
       "model_id": "471d650dc1c54af78d3761f3455e2113",
       "version_major": 2,
       "version_minor": 0
      },
      "text/plain": [
       "  0%|          | 0/12000 [00:00<?, ?it/s]"
      ]
     },
     "metadata": {},
     "output_type": "display_data"
    },
    {
     "data": {
      "application/vnd.jupyter.widget-view+json": {
       "model_id": "8034f03a5ca0443b98f9be51286bbcca",
       "version_major": 2,
       "version_minor": 0
      },
      "text/plain": [
       "  0%|          | 0/12000 [00:00<?, ?it/s]"
      ]
     },
     "metadata": {},
     "output_type": "display_data"
    },
    {
     "data": {
      "application/vnd.jupyter.widget-view+json": {
       "model_id": "8ac62b9bff954e9b9f6768e50b3bcc6b",
       "version_major": 2,
       "version_minor": 0
      },
      "text/plain": [
       "  0%|          | 0/12000 [00:00<?, ?it/s]"
      ]
     },
     "metadata": {},
     "output_type": "display_data"
    },
    {
     "data": {
      "application/vnd.jupyter.widget-view+json": {
       "model_id": "66327911c8b24daea6c1a14d0e1f5779",
       "version_major": 2,
       "version_minor": 0
      },
      "text/plain": [
       "  0%|          | 0/12000 [00:00<?, ?it/s]"
      ]
     },
     "metadata": {},
     "output_type": "display_data"
    },
    {
     "name": "stderr",
     "output_type": "stream",
     "text": [
      "v:\\dev\\dseinternational\\development-models\\.venv\\Lib\\site-packages\\jax\\_src\\interpreters\\mlir.py:1316: UserWarning: Some donated buffers were not usable: float64[6,8000,6], float64[6,8000,54,3], float64[6,8000,54,3,3], float64[6,8000,6], float64[6,8000,54,3], float64[6,8000], float64[6,8000], float64[6,8000,54,4], float64[6,8000].\n",
      "See an explanation at https://docs.jax.dev/en/latest/faq.html#buffer-donation.\n",
      "  warnings.warn(\"Some donated buffers were not usable:\"\n",
      "There was 1 divergence after tuning. Increase `target_accept` or reparameterize.\n"
     ]
    }
   ],
   "source": [
    "CHAINS = 6\n",
    "CORES = CHAINS\n",
    "RANDOM_SEED = 202509\n",
    "rng = np.random.default_rng(RANDOM_SEED)\n",
    "\n",
    "posterior_keep = [\n",
    "    \"B\",\n",
    "    \"B_autoregressive\",\n",
    "    \"B_crosslag\",\n",
    "    \"B_half_life\",\n",
    "    \"mu\",\n",
    "    \"beta_age\",\n",
    "    \"beta_person\",\n",
    "    \"rho\",\n",
    "    \"alpha_sd\",\n",
    "    \"alpha_corr\",\n",
    "    \"eta_sd\",\n",
    "    \"delta\",\n",
    "    \"p_bar\",\n",
    "    \"items_per_logit\",\n",
    "]\n",
    "\n",
    "with model:\n",
    "    idata = pm.sample(\n",
    "        draws=8000,\n",
    "        tune=4000,\n",
    "        chains=CHAINS,\n",
    "        cores=CORES,\n",
    "        target_accept=0.96,\n",
    "        var_names=posterior_keep,\n",
    "        idata_kwargs={\"log_likelihood\": True},\n",
    "        return_inferencedata=True,\n",
    "        init=\"jitter+adapt_diag\",\n",
    "        nuts_sampler=\"numpyro\",\n",
    "        chain_method=\"vectorized\",\n",
    "        # compile_kwargs=dict(mode=\"NUMBA\"),\n",
    "        random_seed=RANDOM_SEED,\n",
    "    )"
   ]
  },
  {
   "cell_type": "markdown",
   "id": "8e0dbb95",
   "metadata": {},
   "source": [
    "## Diagnostics\n"
   ]
  },
  {
   "cell_type": "code",
   "execution_count": 6,
   "id": "391e86b2",
   "metadata": {},
   "outputs": [
    {
     "data": {
      "text/plain": [
       "array([0.86992586, 0.83941991, 0.81503055, 0.83542524, 0.80498318,\n",
       "       0.83722307])"
      ]
     },
     "execution_count": 6,
     "metadata": {},
     "output_type": "execute_result"
    }
   ],
   "source": [
    "az.bfmi(idata)"
   ]
  },
  {
   "cell_type": "code",
   "execution_count": 7,
   "id": "96ec64e6",
   "metadata": {},
   "outputs": [
    {
     "data": {
      "text/plain": [
       "<Axes: >"
      ]
     },
     "execution_count": 7,
     "metadata": {},
     "output_type": "execute_result"
    },
    {
     "data": {
      "image/png": "[encoded data removed]",
      "text/plain": [
       "<Figure size 720x480 with 1 Axes>"
      ]
     },
     "metadata": {},
     "output_type": "display_data"
    }
   ],
   "source": [
    "az.plot_energy(idata)"
   ]
  },
  {
   "cell_type": "code",
   "execution_count": 8,
   "id": "68233811",
   "metadata": {},
   "outputs": [
    {
     "name": "stderr",
     "output_type": "stream",
     "text": [
      "C:\\Users\\FrankBuckley\\AppData\\Local\\Temp\\ipykernel_49876\\1443674258.py:8: UserWarning: The effect of Potentials on other parameters is ignored during prior predictive sampling. This is likely to lead to invalid or biased predictive samples.\n",
      "  idata_pp = pm.sample_prior_predictive(\n",
      "Sampling: [alpha_scale, alpha_z, beta_age, beta_person, day_raw, delta, delta_sd, eta_sd, init_scale, kappa_uncon, mu0, mu_step_sd, mu_steps, nu_mu_minus2, raw_B, state_shock, x1_z, y]\n"
     ]
    }
   ],
   "source": [
    "from pytensor import config\n",
    "\n",
    "if config.mode.upper() == \"NUMBA\":\n",
    "    config.mode = \"FAST_COMPILE\"\n",
    "\n",
    "with model:\n",
    "    # Prior predictive (force non-Numba mode)\n",
    "    idata_pp = pm.sample_prior_predictive(\n",
    "        samples=1000,\n",
    "        var_names=[\n",
    "            \"mu\",\n",
    "            \"B\",\n",
    "            \"rho\",\n",
    "            \"kappa\",\n",
    "            \"alpha_sd\",\n",
    "            \"alpha_corr\",\n",
    "            \"eta_sd\",\n",
    "            \"delta\",\n",
    "            \"y\",\n",
    "        ],\n",
    "        compile_kwargs={\n",
    "            \"mode\": \"FAST_COMPILE\"\n",
    "        }\n",
    "    )\n",
    "    idata.extend(idata_pp)"
   ]
  },
  {
   "cell_type": "code",
   "execution_count": 9,
   "id": "549a8db6",
   "metadata": {},
   "outputs": [
    {
     "name": "stdout",
     "output_type": "stream",
     "text": [
      "<xarray.DataArray 'mu' (quantile: 3, construct: 3, time: 4)> Size: 288B\n",
      "array([[[0.099756  , 0.08576126, 0.08189101, 0.07178285],\n",
      "        [0.26509733, 0.23494752, 0.2164743 , 0.19442906],\n",
      "        [0.03675411, 0.03150821, 0.02712417, 0.02455017]],\n",
      "\n",
      "       [[0.19721608, 0.20037894, 0.20067988, 0.20460286],\n",
      "        [0.44290713, 0.44501919, 0.44035261, 0.44697176],\n",
      "        [0.0826521 , 0.08239018, 0.08220509, 0.08203628]],\n",
      "\n",
      "       [[0.35981033, 0.40714008, 0.43090673, 0.45072355],\n",
      "        [0.64037047, 0.68024449, 0.70708127, 0.71983963],\n",
      "        [0.17104176, 0.19519003, 0.22937052, 0.24872791]]])\n",
      "Coordinates:\n",
      "  * construct  (construct) <U11 132B 'Vocab' 'LetterSound' 'WordReading'\n",
      "  * time       (time) int64 32B 1 2 3 4\n",
      "  * quantile   (quantile) float64 24B 0.05 0.5 0.95\n"
     ]
    },
    {
     "data": {
      "application/vnd.microsoft.datawrangler.viewer.v0+json": {
       "columns": [
        {
         "name": "('construct', 'time')",
         "rawType": "object",
         "type": "unknown"
        },
        {
         "name": "q05",
         "rawType": "float64",
         "type": "float"
        },
        {
         "name": "q50",
         "rawType": "float64",
         "type": "float"
        },
        {
         "name": "q95",
         "rawType": "float64",
         "type": "float"
        }
       ],
       "ref": "ce21253e-1794-4079-b13f-732011c42060",
       "rows": [
        [
         "('LetterSound', np.int64(1))",
         "0.26509733172042066",
         "0.44290713269812026",
         "0.6403704654483403"
        ],
        [
         "('LetterSound', np.int64(2))",
         "0.23494752049452217",
         "0.44501919457574757",
         "0.6802444876524054"
        ],
        [
         "('LetterSound', np.int64(3))",
         "0.21647430187903424",
         "0.44035260985370184",
         "0.7070812738425208"
        ],
        [
         "('LetterSound', np.int64(4))",
         "0.19442906276750083",
         "0.44697175955026125",
         "0.719839627081409"
        ],
        [
         "('Vocab', np.int64(1))",
         "0.09975600271855073",
         "0.1972160841903579",
         "0.3598103338401963"
        ],
        [
         "('Vocab', np.int64(2))",
         "0.08576126322916063",
         "0.20037893837505452",
         "0.4071400799685872"
        ],
        [
         "('Vocab', np.int64(3))",
         "0.0818910069708826",
         "0.20067987607938714",
         "0.4309067262450374"
        ],
        [
         "('Vocab', np.int64(4))",
         "0.0717828459193793",
         "0.20460285877619086",
         "0.4507235485543254"
        ],
        [
         "('WordReading', np.int64(1))",
         "0.036754114913075224",
         "0.0826520959452845",
         "0.1710417640480618"
        ],
        [
         "('WordReading', np.int64(2))",
         "0.031508211351815404",
         "0.08239017558320766",
         "0.19519003341888866"
        ],
        [
         "('WordReading', np.int64(3))",
         "0.027124167801235746",
         "0.08220508913141569",
         "0.2293705195718211"
        ],
        [
         "('WordReading', np.int64(4))",
         "0.024550168414394367",
         "0.08203628040361022",
         "0.248727910191531"
        ]
       ],
       "shape": {
        "columns": 3,
        "rows": 12
       }
      },
      "text/html": [
       "<div>\n",
       "<style scoped>\n",
       "    .dataframe tbody tr th:only-of-type {\n",
       "        vertical-align: middle;\n",
       "    }\n",
       "\n",
       "    .dataframe tbody tr th {\n",
       "        vertical-align: top;\n",
       "    }\n",
       "\n",
       "    .dataframe thead th {\n",
       "        text-align: right;\n",
       "    }\n",
       "</style>\n",
       "<table border=\"1\" class=\"dataframe\">\n",
       "  <thead>\n",
       "    <tr style=\"text-align: right;\">\n",
       "      <th></th>\n",
       "      <th>quantile</th>\n",
       "      <th>q05</th>\n",
       "      <th>q50</th>\n",
       "      <th>q95</th>\n",
       "    </tr>\n",
       "    <tr>\n",
       "      <th>construct</th>\n",
       "      <th>time</th>\n",
       "      <th></th>\n",
       "      <th></th>\n",
       "      <th></th>\n",
       "    </tr>\n",
       "  </thead>\n",
       "  <tbody>\n",
       "    <tr>\n",
       "      <th rowspan=\"4\" valign=\"top\">LetterSound</th>\n",
       "      <th>1</th>\n",
       "      <td>0.265097</td>\n",
       "      <td>0.442907</td>\n",
       "      <td>0.640370</td>\n",
       "    </tr>\n",
       "    <tr>\n",
       "      <th>2</th>\n",
       "      <td>0.234948</td>\n",
       "      <td>0.445019</td>\n",
       "      <td>0.680244</td>\n",
       "    </tr>\n",
       "    <tr>\n",
       "      <th>3</th>\n",
       "      <td>0.216474</td>\n",
       "      <td>0.440353</td>\n",
       "      <td>0.707081</td>\n",
       "    </tr>\n",
       "    <tr>\n",
       "      <th>4</th>\n",
       "      <td>0.194429</td>\n",
       "      <td>0.446972</td>\n",
       "      <td>0.719840</td>\n",
       "    </tr>\n",
       "    <tr>\n",
       "      <th rowspan=\"4\" valign=\"top\">Vocab</th>\n",
       "      <th>1</th>\n",
       "      <td>0.099756</td>\n",
       "      <td>0.197216</td>\n",
       "      <td>0.359810</td>\n",
       "    </tr>\n",
       "    <tr>\n",
       "      <th>2</th>\n",
       "      <td>0.085761</td>\n",
       "      <td>0.200379</td>\n",
       "      <td>0.407140</td>\n",
       "    </tr>\n",
       "    <tr>\n",
       "      <th>3</th>\n",
       "      <td>0.081891</td>\n",
       "      <td>0.200680</td>\n",
       "      <td>0.430907</td>\n",
       "    </tr>\n",
       "    <tr>\n",
       "      <th>4</th>\n",
       "      <td>0.071783</td>\n",
       "      <td>0.204603</td>\n",
       "      <td>0.450724</td>\n",
       "    </tr>\n",
       "    <tr>\n",
       "      <th rowspan=\"4\" valign=\"top\">WordReading</th>\n",
       "      <th>1</th>\n",
       "      <td>0.036754</td>\n",
       "      <td>0.082652</td>\n",
       "      <td>0.171042</td>\n",
       "    </tr>\n",
       "    <tr>\n",
       "      <th>2</th>\n",
       "      <td>0.031508</td>\n",
       "      <td>0.082390</td>\n",
       "      <td>0.195190</td>\n",
       "    </tr>\n",
       "    <tr>\n",
       "      <th>3</th>\n",
       "      <td>0.027124</td>\n",
       "      <td>0.082205</td>\n",
       "      <td>0.229371</td>\n",
       "    </tr>\n",
       "    <tr>\n",
       "      <th>4</th>\n",
       "      <td>0.024550</td>\n",
       "      <td>0.082036</td>\n",
       "      <td>0.248728</td>\n",
       "    </tr>\n",
       "  </tbody>\n",
       "</table>\n",
       "</div>"
      ],
      "text/plain": [
       "quantile               q05       q50       q95\n",
       "construct   time                              \n",
       "LetterSound 1     0.265097  0.442907  0.640370\n",
       "            2     0.234948  0.445019  0.680244\n",
       "            3     0.216474  0.440353  0.707081\n",
       "            4     0.194429  0.446972  0.719840\n",
       "Vocab       1     0.099756  0.197216  0.359810\n",
       "            2     0.085761  0.200379  0.407140\n",
       "            3     0.081891  0.200680  0.430907\n",
       "            4     0.071783  0.204603  0.450724\n",
       "WordReading 1     0.036754  0.082652  0.171042\n",
       "            2     0.031508  0.082390  0.195190\n",
       "            3     0.027124  0.082205  0.229371\n",
       "            4     0.024550  0.082036  0.248728"
      ]
     },
     "execution_count": 9,
     "metadata": {},
     "output_type": "execute_result"
    }
   ],
   "source": [
    "\n",
    "# 1) Get mu from the *prior* group (not prior_predictive)\n",
    "mu = idata_pp.prior[\"mu\"]                   # dims: (\"chain\",\"draw\",\"construct\",\"time\")\n",
    "\n",
    "# 2) Collapse chains -> one sample axis\n",
    "mu_s = mu.stack(sample=(\"chain\",\"draw\"))    # dims: (\"sample\",\"construct\",\"time\")\n",
    "\n",
    "# 3) Convert to probabilities\n",
    "p = 1 / (1 + np.exp(-mu_s))                 # same dims\n",
    "\n",
    "# 4) Quantiles over samples -> dims (\"quantile\",\"construct\",\"time\")\n",
    "q = p.quantile(q=[0.05, 0.50, 0.95], dim=\"sample\")\n",
    "\n",
    "# 5a) Stay in xarray (recommended)\n",
    "print(q)\n",
    "\n",
    "# 5b) Or make a tidy pandas table with MultiIndex rows and quantiles as columns\n",
    "df_p = (\n",
    "    q.to_dataframe(name=\"p\")                # index: quantile, construct, time\n",
    "      .reset_index()\n",
    "      .pivot_table(index=[\"construct\",\"time\"], columns=\"quantile\", values=\"p\")\n",
    "      .rename(columns={0.05:\"q05\", 0.50:\"q50\", 0.95:\"q95\"})\n",
    "      .sort_index()\n",
    ")\n",
    "df_p\n"
   ]
  },
  {
   "cell_type": "markdown",
   "id": "720c2a0e",
   "metadata": {},
   "source": [
    "## Summaries\n"
   ]
  },
  {
   "cell_type": "code",
   "execution_count": 11,
   "id": "de5e6d7d",
   "metadata": {},
   "outputs": [
    {
     "name": "stderr",
     "output_type": "stream",
     "text": [
      "v:\\dev\\dseinternational\\development-models\\.venv\\Lib\\site-packages\\arviz\\stats\\diagnostics.py:596: RuntimeWarning: invalid value encountered in scalar divide\n",
      "  (between_chain_variance / within_chain_variance + num_samples - 1) / (num_samples)\n",
      "v:\\dev\\dseinternational\\development-models\\.venv\\Lib\\site-packages\\arviz\\stats\\diagnostics.py:991: RuntimeWarning: invalid value encountered in scalar divide\n",
      "  varsd = varvar / evar / 4\n",
      "v:\\dev\\dseinternational\\development-models\\.venv\\Lib\\site-packages\\arviz\\stats\\diagnostics.py:596: RuntimeWarning: invalid value encountered in scalar divide\n",
      "  (between_chain_variance / within_chain_variance + num_samples - 1) / (num_samples)\n",
      "v:\\dev\\dseinternational\\development-models\\.venv\\Lib\\site-packages\\arviz\\stats\\diagnostics.py:991: RuntimeWarning: invalid value encountered in scalar divide\n",
      "  varsd = varvar / evar / 4\n",
      "v:\\dev\\dseinternational\\development-models\\.venv\\Lib\\site-packages\\arviz\\stats\\diagnostics.py:596: RuntimeWarning: invalid value encountered in scalar divide\n",
      "  (between_chain_variance / within_chain_variance + num_samples - 1) / (num_samples)\n",
      "v:\\dev\\dseinternational\\development-models\\.venv\\Lib\\site-packages\\arviz\\stats\\diagnostics.py:991: RuntimeWarning: invalid value encountered in scalar divide\n",
      "  varsd = varvar / evar / 4\n",
      "v:\\dev\\dseinternational\\development-models\\.venv\\Lib\\site-packages\\arviz\\stats\\diagnostics.py:596: RuntimeWarning: invalid value encountered in scalar divide\n",
      "  (between_chain_variance / within_chain_variance + num_samples - 1) / (num_samples)\n",
      "v:\\dev\\dseinternational\\development-models\\.venv\\Lib\\site-packages\\arviz\\stats\\diagnostics.py:991: RuntimeWarning: invalid value encountered in scalar divide\n",
      "  varsd = varvar / evar / 4\n"
     ]
    },
    {
     "data": {
      "application/vnd.microsoft.datawrangler.viewer.v0+json": {
       "columns": [
        {
         "name": "index",
         "rawType": "object",
         "type": "string"
        },
        {
         "name": "mean",
         "rawType": "float64",
         "type": "float"
        },
        {
         "name": "sd",
         "rawType": "float64",
         "type": "float"
        },
        {
         "name": "hdi_2.5%",
         "rawType": "float64",
         "type": "float"
        },
        {
         "name": "hdi_97.5%",
         "rawType": "float64",
         "type": "float"
        },
        {
         "name": "mcse_mean",
         "rawType": "float64",
         "type": "float"
        },
        {
         "name": "mcse_sd",
         "rawType": "float64",
         "type": "float"
        },
        {
         "name": "ess_bulk",
         "rawType": "float64",
         "type": "float"
        },
        {
         "name": "ess_tail",
         "rawType": "float64",
         "type": "float"
        },
        {
         "name": "r_hat",
         "rawType": "float64",
         "type": "float"
        }
       ],
       "ref": "13b82974-9293-4058-9ebd-f30db5d28968",
       "rows": [
        [
         "B[Vocab, Vocab]",
         "0.108",
         "0.186",
         "-0.26",
         "0.464",
         "0.001",
         "0.001",
         "46780.0",
         "35214.0",
         "1.0"
        ],
        [
         "B[Vocab, LetterSound]",
         "-0.009",
         "0.066",
         "-0.14",
         "0.12",
         "0.0",
         "0.0",
         "20209.0",
         "21445.0",
         "1.0"
        ],
        [
         "B[Vocab, WordReading]",
         "0.025",
         "0.098",
         "-0.165",
         "0.22",
         "0.001",
         "0.0",
         "16929.0",
         "28540.0",
         "1.0"
        ],
        [
         "B[LetterSound, Vocab]",
         "-0.005",
         "0.146",
         "-0.287",
         "0.28",
         "0.001",
         "0.001",
         "58030.0",
         "37812.0",
         "1.0"
        ],
        [
         "B[LetterSound, LetterSound]",
         "0.236",
         "0.118",
         "-0.0",
         "0.464",
         "0.001",
         "0.001",
         "15098.0",
         "21631.0",
         "1.0"
        ],
        [
         "B[LetterSound, WordReading]",
         "-0.026",
         "0.132",
         "-0.288",
         "0.227",
         "0.001",
         "0.001",
         "22813.0",
         "30048.0",
         "1.0"
        ],
        [
         "B[WordReading, Vocab]",
         "-0.003",
         "0.143",
         "-0.284",
         "0.269",
         "0.001",
         "0.001",
         "60000.0",
         "36517.0",
         "1.0"
        ],
        [
         "B[WordReading, LetterSound]",
         "0.02",
         "0.097",
         "-0.163",
         "0.215",
         "0.001",
         "0.0",
         "26480.0",
         "31852.0",
         "1.0"
        ],
        [
         "B[WordReading, WordReading]",
         "0.316",
         "0.134",
         "0.052",
         "0.57",
         "0.001",
         "0.001",
         "21191.0",
         "28718.0",
         "1.0"
        ],
        [
         "B_autoregressive[Vocab]",
         "0.108",
         "0.186",
         "-0.26",
         "0.464",
         "0.001",
         "0.001",
         "46780.0",
         "35214.0",
         "1.0"
        ],
        [
         "B_autoregressive[LetterSound]",
         "0.236",
         "0.118",
         "-0.0",
         "0.464",
         "0.001",
         "0.001",
         "15098.0",
         "21631.0",
         "1.0"
        ],
        [
         "B_autoregressive[WordReading]",
         "0.316",
         "0.134",
         "0.052",
         "0.57",
         "0.001",
         "0.001",
         "21191.0",
         "28718.0",
         "1.0"
        ],
        [
         "B_crosslag[Vocab, Vocab]",
         "0.0",
         "0.0",
         "-0.0",
         "0.0",
         "0.0",
         null,
         "48000.0",
         "48000.0",
         null
        ],
        [
         "B_crosslag[Vocab, LetterSound]",
         "-0.009",
         "0.066",
         "-0.14",
         "0.12",
         "0.0",
         "0.0",
         "20209.0",
         "21445.0",
         "1.0"
        ],
        [
         "B_crosslag[Vocab, WordReading]",
         "0.025",
         "0.098",
         "-0.165",
         "0.22",
         "0.001",
         "0.0",
         "16929.0",
         "28540.0",
         "1.0"
        ],
        [
         "B_crosslag[LetterSound, Vocab]",
         "-0.005",
         "0.146",
         "-0.287",
         "0.28",
         "0.001",
         "0.001",
         "58030.0",
         "37812.0",
         "1.0"
        ],
        [
         "B_crosslag[LetterSound, LetterSound]",
         "0.0",
         "0.0",
         "0.0",
         "0.0",
         "0.0",
         null,
         "48000.0",
         "48000.0",
         null
        ],
        [
         "B_crosslag[LetterSound, WordReading]",
         "-0.026",
         "0.132",
         "-0.288",
         "0.227",
         "0.001",
         "0.001",
         "22813.0",
         "30048.0",
         "1.0"
        ],
        [
         "B_crosslag[WordReading, Vocab]",
         "-0.003",
         "0.143",
         "-0.284",
         "0.269",
         "0.001",
         "0.001",
         "60000.0",
         "36517.0",
         "1.0"
        ],
        [
         "B_crosslag[WordReading, LetterSound]",
         "0.02",
         "0.097",
         "-0.163",
         "0.215",
         "0.001",
         "0.0",
         "26480.0",
         "31852.0",
         "1.0"
        ],
        [
         "B_crosslag[WordReading, WordReading]",
         "0.0",
         "0.0",
         "0.0",
         "0.0",
         "0.0",
         null,
         "48000.0",
         "48000.0",
         null
        ],
        [
         "B_half_life[Vocab]",
         "0.408",
         "0.199",
         "0.104",
         "0.797",
         "0.001",
         "0.001",
         "34397.0",
         "33397.0",
         "1.0"
        ],
        [
         "B_half_life[LetterSound]",
         "0.499",
         "0.176",
         "0.162",
         "0.847",
         "0.001",
         "0.001",
         "16204.0",
         "24018.0",
         "1.0"
        ],
        [
         "B_half_life[WordReading]",
         "0.638",
         "0.238",
         "0.189",
         "1.102",
         "0.002",
         "0.001",
         "22589.0",
         "30158.0",
         "1.0"
        ],
        [
         "beta_age[Vocab]",
         "0.175",
         "0.045",
         "0.089",
         "0.266",
         "0.0",
         "0.0",
         "12701.0",
         "22437.0",
         "1.0"
        ],
        [
         "beta_age[LetterSound]",
         "0.055",
         "0.14",
         "-0.221",
         "0.333",
         "0.001",
         "0.001",
         "11651.0",
         "19991.0",
         "1.0"
        ],
        [
         "beta_age[WordReading]",
         "0.29",
         "0.159",
         "-0.019",
         "0.605",
         "0.001",
         "0.001",
         "12352.0",
         "21837.0",
         "1.0"
        ],
        [
         "beta_person[gender, Vocab]",
         "-0.021",
         "0.088",
         "-0.195",
         "0.152",
         "0.001",
         "0.0",
         "11704.0",
         "21735.0",
         "1.0"
        ],
        [
         "beta_person[gender, LetterSound]",
         "0.012",
         "0.237",
         "-0.455",
         "0.474",
         "0.002",
         "0.001",
         "13819.0",
         "23142.0",
         "1.0"
        ],
        [
         "beta_person[gender, WordReading]",
         "0.24",
         "0.268",
         "-0.26",
         "0.79",
         "0.002",
         "0.001",
         "14374.0",
         "24902.0",
         "1.0"
        ],
        [
         "beta_person[area, Vocab]",
         "0.166",
         "0.087",
         "-0.006",
         "0.334",
         "0.001",
         "0.0",
         "12170.0",
         "22429.0",
         "1.0"
        ],
        [
         "beta_person[area, LetterSound]",
         "0.138",
         "0.241",
         "-0.327",
         "0.62",
         "0.002",
         "0.001",
         "13782.0",
         "17035.0",
         "1.0"
        ],
        [
         "beta_person[area, WordReading]",
         "0.518",
         "0.269",
         "-0.018",
         "1.039",
         "0.002",
         "0.001",
         "15058.0",
         "23243.0",
         "1.0"
        ],
        [
         "alpha_sd[Vocab]",
         "0.3",
         "0.035",
         "0.233",
         "0.369",
         "0.0",
         "0.0",
         "15886.0",
         "26828.0",
         "1.0"
        ],
        [
         "alpha_sd[LetterSound]",
         "1.017",
         "0.087",
         "0.849",
         "1.186",
         "0.001",
         "0.0",
         "16303.0",
         "29132.0",
         "1.0"
        ],
        [
         "alpha_sd[WordReading]",
         "1.188",
         "0.097",
         "0.999",
         "1.377",
         "0.001",
         "0.0",
         "24175.0",
         "32939.0",
         "1.0"
        ],
        [
         "alpha_corr[Vocab, Vocab]",
         "1.0",
         "0.0",
         "1.0",
         "1.0",
         "0.0",
         null,
         "48000.0",
         "48000.0",
         null
        ],
        [
         "alpha_corr[Vocab, LetterSound]",
         "0.549",
         "0.11",
         "0.333",
         "0.752",
         "0.001",
         "0.001",
         "9340.0",
         "17525.0",
         "1.0"
        ],
        [
         "alpha_corr[Vocab, WordReading]",
         "0.602",
         "0.1",
         "0.401",
         "0.786",
         "0.001",
         "0.001",
         "10294.0",
         "18570.0",
         "1.0"
        ],
        [
         "alpha_corr[LetterSound, Vocab]",
         "0.549",
         "0.11",
         "0.333",
         "0.752",
         "0.001",
         "0.001",
         "9340.0",
         "17525.0",
         "1.0"
        ],
        [
         "alpha_corr[LetterSound, LetterSound]",
         "1.0",
         "0.0",
         "1.0",
         "1.0",
         "0.0",
         "0.0",
         "48091.0",
         "44130.0",
         "1.0"
        ],
        [
         "alpha_corr[LetterSound, WordReading]",
         "0.842",
         "0.057",
         "0.729",
         "0.942",
         "0.001",
         "0.0",
         "10988.0",
         "17441.0",
         "1.0"
        ],
        [
         "alpha_corr[WordReading, Vocab]",
         "0.602",
         "0.1",
         "0.401",
         "0.786",
         "0.001",
         "0.001",
         "10294.0",
         "18570.0",
         "1.0"
        ],
        [
         "alpha_corr[WordReading, LetterSound]",
         "0.842",
         "0.057",
         "0.729",
         "0.942",
         "0.001",
         "0.0",
         "10988.0",
         "17441.0",
         "1.0"
        ],
        [
         "alpha_corr[WordReading, WordReading]",
         "1.0",
         "0.0",
         "1.0",
         "1.0",
         "0.0",
         "0.0",
         "48287.0",
         "43860.0",
         "1.0"
        ],
        [
         "eta_sd[Vocab]",
         "0.028",
         "0.021",
         "0.0",
         "0.069",
         "0.0",
         "0.0",
         "21699.0",
         "20964.0",
         "1.0"
        ],
        [
         "eta_sd[LetterSound]",
         "0.286",
         "0.101",
         "0.052",
         "0.467",
         "0.003",
         "0.002",
         "2052.0",
         "1742.0",
         "1.0"
        ],
        [
         "eta_sd[WordReading]",
         "0.049",
         "0.037",
         "0.0",
         "0.121",
         "0.0",
         "0.0",
         "22749.0",
         "19776.0",
         "1.0"
        ],
        [
         "mu[Vocab, 1]",
         "-1.351",
         "0.058",
         "-1.464",
         "-1.235",
         "0.0",
         "0.0",
         "15840.0",
         "26903.0",
         "1.0"
        ],
        [
         "mu[Vocab, 2]",
         "-1.24",
         "0.058",
         "-1.352",
         "-1.124",
         "0.0",
         "0.0",
         "18600.0",
         "28866.0",
         "1.0"
        ]
       ],
       "shape": {
        "columns": 9,
        "rows": 87
       }
      },
      "text/html": [
       "<div>\n",
       "<style scoped>\n",
       "    .dataframe tbody tr th:only-of-type {\n",
       "        vertical-align: middle;\n",
       "    }\n",
       "\n",
       "    .dataframe tbody tr th {\n",
       "        vertical-align: top;\n",
       "    }\n",
       "\n",
       "    .dataframe thead th {\n",
       "        text-align: right;\n",
       "    }\n",
       "</style>\n",
       "<table border=\"1\" class=\"dataframe\">\n",
       "  <thead>\n",
       "    <tr style=\"text-align: right;\">\n",
       "      <th></th>\n",
       "      <th>mean</th>\n",
       "      <th>sd</th>\n",
       "      <th>hdi_2.5%</th>\n",
       "      <th>hdi_97.5%</th>\n",
       "      <th>mcse_mean</th>\n",
       "      <th>mcse_sd</th>\n",
       "      <th>ess_bulk</th>\n",
       "      <th>ess_tail</th>\n",
       "      <th>r_hat</th>\n",
       "    </tr>\n",
       "  </thead>\n",
       "  <tbody>\n",
       "    <tr>\n",
       "      <th>B[Vocab, Vocab]</th>\n",
       "      <td>0.108</td>\n",
       "      <td>0.186</td>\n",
       "      <td>-0.260</td>\n",
       "      <td>0.464</td>\n",
       "      <td>0.001</td>\n",
       "      <td>0.001</td>\n",
       "      <td>46780.0</td>\n",
       "      <td>35214.0</td>\n",
       "      <td>1.0</td>\n",
       "    </tr>\n",
       "    <tr>\n",
       "      <th>B[Vocab, LetterSound]</th>\n",
       "      <td>-0.009</td>\n",
       "      <td>0.066</td>\n",
       "      <td>-0.140</td>\n",
       "      <td>0.120</td>\n",
       "      <td>0.000</td>\n",
       "      <td>0.000</td>\n",
       "      <td>20209.0</td>\n",
       "      <td>21445.0</td>\n",
       "      <td>1.0</td>\n",
       "    </tr>\n",
       "    <tr>\n",
       "      <th>B[Vocab, WordReading]</th>\n",
       "      <td>0.025</td>\n",
       "      <td>0.098</td>\n",
       "      <td>-0.165</td>\n",
       "      <td>0.220</td>\n",
       "      <td>0.001</td>\n",
       "      <td>0.000</td>\n",
       "      <td>16929.0</td>\n",
       "      <td>28540.0</td>\n",
       "      <td>1.0</td>\n",
       "    </tr>\n",
       "    <tr>\n",
       "      <th>B[LetterSound, Vocab]</th>\n",
       "      <td>-0.005</td>\n",
       "      <td>0.146</td>\n",
       "      <td>-0.287</td>\n",
       "      <td>0.280</td>\n",
       "      <td>0.001</td>\n",
       "      <td>0.001</td>\n",
       "      <td>58030.0</td>\n",
       "      <td>37812.0</td>\n",
       "      <td>1.0</td>\n",
       "    </tr>\n",
       "    <tr>\n",
       "      <th>B[LetterSound, LetterSound]</th>\n",
       "      <td>0.236</td>\n",
       "      <td>0.118</td>\n",
       "      <td>-0.000</td>\n",
       "      <td>0.464</td>\n",
       "      <td>0.001</td>\n",
       "      <td>0.001</td>\n",
       "      <td>15098.0</td>\n",
       "      <td>21631.0</td>\n",
       "      <td>1.0</td>\n",
       "    </tr>\n",
       "    <tr>\n",
       "      <th>...</th>\n",
       "      <td>...</td>\n",
       "      <td>...</td>\n",
       "      <td>...</td>\n",
       "      <td>...</td>\n",
       "      <td>...</td>\n",
       "      <td>...</td>\n",
       "      <td>...</td>\n",
       "      <td>...</td>\n",
       "      <td>...</td>\n",
       "    </tr>\n",
       "    <tr>\n",
       "      <th>items_per_logit[WordReading, 3]</th>\n",
       "      <td>8.166</td>\n",
       "      <td>1.047</td>\n",
       "      <td>6.152</td>\n",
       "      <td>10.227</td>\n",
       "      <td>0.009</td>\n",
       "      <td>0.005</td>\n",
       "      <td>14546.0</td>\n",
       "      <td>24594.0</td>\n",
       "      <td>1.0</td>\n",
       "    </tr>\n",
       "    <tr>\n",
       "      <th>items_per_logit[WordReading, 4]</th>\n",
       "      <td>9.805</td>\n",
       "      <td>1.155</td>\n",
       "      <td>7.652</td>\n",
       "      <td>12.174</td>\n",
       "      <td>0.009</td>\n",
       "      <td>0.005</td>\n",
       "      <td>15027.0</td>\n",
       "      <td>25957.0</td>\n",
       "      <td>1.0</td>\n",
       "    </tr>\n",
       "    <tr>\n",
       "      <th>delta[Vocab]</th>\n",
       "      <td>0.020</td>\n",
       "      <td>0.018</td>\n",
       "      <td>0.000</td>\n",
       "      <td>0.057</td>\n",
       "      <td>0.000</td>\n",
       "      <td>0.000</td>\n",
       "      <td>11071.0</td>\n",
       "      <td>14958.0</td>\n",
       "      <td>1.0</td>\n",
       "    </tr>\n",
       "    <tr>\n",
       "      <th>delta[LetterSound]</th>\n",
       "      <td>0.085</td>\n",
       "      <td>0.114</td>\n",
       "      <td>0.000</td>\n",
       "      <td>0.350</td>\n",
       "      <td>0.003</td>\n",
       "      <td>0.004</td>\n",
       "      <td>1721.0</td>\n",
       "      <td>1686.0</td>\n",
       "      <td>1.0</td>\n",
       "    </tr>\n",
       "    <tr>\n",
       "      <th>delta[WordReading]</th>\n",
       "      <td>0.035</td>\n",
       "      <td>0.036</td>\n",
       "      <td>0.000</td>\n",
       "      <td>0.109</td>\n",
       "      <td>0.001</td>\n",
       "      <td>0.001</td>\n",
       "      <td>4197.0</td>\n",
       "      <td>7759.0</td>\n",
       "      <td>1.0</td>\n",
       "    </tr>\n",
       "  </tbody>\n",
       "</table>\n",
       "<p>87 rows × 9 columns</p>\n",
       "</div>"
      ],
      "text/plain": [
       "                                  mean     sd  hdi_2.5%  hdi_97.5%  mcse_mean  \\\n",
       "B[Vocab, Vocab]                  0.108  0.186    -0.260      0.464      0.001   \n",
       "B[Vocab, LetterSound]           -0.009  0.066    -0.140      0.120      0.000   \n",
       "B[Vocab, WordReading]            0.025  0.098    -0.165      0.220      0.001   \n",
       "B[LetterSound, Vocab]           -0.005  0.146    -0.287      0.280      0.001   \n",
       "B[LetterSound, LetterSound]      0.236  0.118    -0.000      0.464      0.001   \n",
       "...                                ...    ...       ...        ...        ...   \n",
       "items_per_logit[WordReading, 3]  8.166  1.047     6.152     10.227      0.009   \n",
       "items_per_logit[WordReading, 4]  9.805  1.155     7.652     12.174      0.009   \n",
       "delta[Vocab]                     0.020  0.018     0.000      0.057      0.000   \n",
       "delta[LetterSound]               0.085  0.114     0.000      0.350      0.003   \n",
       "delta[WordReading]               0.035  0.036     0.000      0.109      0.001   \n",
       "\n",
       "                                 mcse_sd  ess_bulk  ess_tail  r_hat  \n",
       "B[Vocab, Vocab]                    0.001   46780.0   35214.0    1.0  \n",
       "B[Vocab, LetterSound]              0.000   20209.0   21445.0    1.0  \n",
       "B[Vocab, WordReading]              0.000   16929.0   28540.0    1.0  \n",
       "B[LetterSound, Vocab]              0.001   58030.0   37812.0    1.0  \n",
       "B[LetterSound, LetterSound]        0.001   15098.0   21631.0    1.0  \n",
       "...                                  ...       ...       ...    ...  \n",
       "items_per_logit[WordReading, 3]    0.005   14546.0   24594.0    1.0  \n",
       "items_per_logit[WordReading, 4]    0.005   15027.0   25957.0    1.0  \n",
       "delta[Vocab]                       0.000   11071.0   14958.0    1.0  \n",
       "delta[LetterSound]                 0.004    1721.0    1686.0    1.0  \n",
       "delta[WordReading]                 0.001    4197.0    7759.0    1.0  \n",
       "\n",
       "[87 rows x 9 columns]"
      ]
     },
     "execution_count": 11,
     "metadata": {},
     "output_type": "execute_result"
    }
   ],
   "source": [
    "vars_to_report = [\n",
    "    \"B\",\n",
    "    \"B_autoregressive\",\n",
    "    \"B_crosslag\",\n",
    "    \"B_half_life\",\n",
    "    \"beta_age\",\n",
    "    \"beta_person\",\n",
    "    \"alpha_sd\",\n",
    "    \"alpha_corr\",\n",
    "    \"eta_sd\",\n",
    "    \"mu\",\n",
    "    \"p_bar\",\n",
    "    \"items_per_logit\",\n",
    "    \"delta\",\n",
    "]\n",
    "\n",
    "summary = az.summary(idata, var_names=vars_to_report, hdi_prob=0.95)\n",
    "summary.to_csv(\"summary.csv\")\n",
    "summary"
   ]
  }
 ],
 "metadata": {
  "kernelspec": {
   "display_name": ".venv",
   "language": "python",
   "name": "python3"
  },
  "language_info": {
   "codemirror_mode": {
    "name": "ipython",
    "version": 3
   },
   "file_extension": ".py",
   "mimetype": "text/x-python",
   "name": "python",
   "nbconvert_exporter": "python",
   "pygments_lexer": "ipython3",
   "version": "3.13.7"
  }
 },
 "nbformat": 4,
 "nbformat_minor": 5
}
